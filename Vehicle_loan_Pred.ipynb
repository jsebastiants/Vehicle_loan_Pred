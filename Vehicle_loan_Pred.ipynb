{
 "cells": [
  {
   "cell_type": "code",
   "execution_count": 2,
   "id": "84581cd5",
   "metadata": {},
   "outputs": [],
   "source": [
    "import numpy as np \n",
    "import pandas as pd \n",
    "\n",
    "import seaborn as sns\n",
    "import matplotlib.pyplot as plt\n",
    "%matplotlib inline\n",
    "\n",
    "import random as rnd"
   ]
  },
  {
   "cell_type": "code",
   "execution_count": 3,
   "id": "80d1c3aa",
   "metadata": {},
   "outputs": [],
   "source": [
    "train_df = pd.read_csv('C:/Users/Sebastian/Desktop/train.csv')\n",
    "test_df = pd.read_csv('C:/Users/Sebastian/Desktop/test.csv')"
   ]
  },
  {
   "cell_type": "code",
   "execution_count": 4,
   "id": "bc20d6df",
   "metadata": {},
   "outputs": [
    {
     "name": "stdout",
     "output_type": "stream",
     "text": [
      "<class 'pandas.core.frame.DataFrame'>\n",
      "RangeIndex: 233154 entries, 0 to 233153\n",
      "Data columns (total 41 columns):\n",
      " #   Column                               Non-Null Count   Dtype  \n",
      "---  ------                               --------------   -----  \n",
      " 0   UniqueID                             233154 non-null  int64  \n",
      " 1   disbursed_amount                     233154 non-null  int64  \n",
      " 2   asset_cost                           233154 non-null  int64  \n",
      " 3   ltv                                  233154 non-null  float64\n",
      " 4   branch_id                            233154 non-null  int64  \n",
      " 5   supplier_id                          233154 non-null  int64  \n",
      " 6   manufacturer_id                      233154 non-null  int64  \n",
      " 7   Current_pincode_ID                   233154 non-null  int64  \n",
      " 8   Date.of.Birth                        233154 non-null  object \n",
      " 9   Employment.Type                      225493 non-null  object \n",
      " 10  DisbursalDate                        233154 non-null  object \n",
      " 11  State_ID                             233154 non-null  int64  \n",
      " 12  Employee_code_ID                     233154 non-null  int64  \n",
      " 13  MobileNo_Avl_Flag                    233154 non-null  int64  \n",
      " 14  Aadhar_flag                          233154 non-null  int64  \n",
      " 15  PAN_flag                             233154 non-null  int64  \n",
      " 16  VoterID_flag                         233154 non-null  int64  \n",
      " 17  Driving_flag                         233154 non-null  int64  \n",
      " 18  Passport_flag                        233154 non-null  int64  \n",
      " 19  PERFORM_CNS.SCORE                    233154 non-null  int64  \n",
      " 20  PERFORM_CNS.SCORE.DESCRIPTION        233154 non-null  object \n",
      " 21  PRI.NO.OF.ACCTS                      233154 non-null  int64  \n",
      " 22  PRI.ACTIVE.ACCTS                     233154 non-null  int64  \n",
      " 23  PRI.OVERDUE.ACCTS                    233154 non-null  int64  \n",
      " 24  PRI.CURRENT.BALANCE                  233154 non-null  int64  \n",
      " 25  PRI.SANCTIONED.AMOUNT                233154 non-null  int64  \n",
      " 26  PRI.DISBURSED.AMOUNT                 233154 non-null  int64  \n",
      " 27  SEC.NO.OF.ACCTS                      233154 non-null  int64  \n",
      " 28  SEC.ACTIVE.ACCTS                     233154 non-null  int64  \n",
      " 29  SEC.OVERDUE.ACCTS                    233154 non-null  int64  \n",
      " 30  SEC.CURRENT.BALANCE                  233154 non-null  int64  \n",
      " 31  SEC.SANCTIONED.AMOUNT                233154 non-null  int64  \n",
      " 32  SEC.DISBURSED.AMOUNT                 233154 non-null  int64  \n",
      " 33  PRIMARY.INSTAL.AMT                   233154 non-null  int64  \n",
      " 34  SEC.INSTAL.AMT                       233154 non-null  int64  \n",
      " 35  NEW.ACCTS.IN.LAST.SIX.MONTHS         233154 non-null  int64  \n",
      " 36  DELINQUENT.ACCTS.IN.LAST.SIX.MONTHS  233154 non-null  int64  \n",
      " 37  AVERAGE.ACCT.AGE                     233154 non-null  object \n",
      " 38  CREDIT.HISTORY.LENGTH                233154 non-null  object \n",
      " 39  NO.OF_INQUIRIES                      233154 non-null  int64  \n",
      " 40  loan_default                         233154 non-null  int64  \n",
      "dtypes: float64(1), int64(34), object(6)\n",
      "memory usage: 72.9+ MB\n"
     ]
    }
   ],
   "source": [
    "train_df.info()"
   ]
  },
  {
   "cell_type": "code",
   "execution_count": 5,
   "id": "cb8f37f3",
   "metadata": {},
   "outputs": [
    {
     "data": {
      "text/html": [
       "<div>\n",
       "<style scoped>\n",
       "    .dataframe tbody tr th:only-of-type {\n",
       "        vertical-align: middle;\n",
       "    }\n",
       "\n",
       "    .dataframe tbody tr th {\n",
       "        vertical-align: top;\n",
       "    }\n",
       "\n",
       "    .dataframe thead th {\n",
       "        text-align: right;\n",
       "    }\n",
       "</style>\n",
       "<table border=\"1\" class=\"dataframe\">\n",
       "  <thead>\n",
       "    <tr style=\"text-align: right;\">\n",
       "      <th></th>\n",
       "      <th>UniqueID</th>\n",
       "      <th>disbursed_amount</th>\n",
       "      <th>asset_cost</th>\n",
       "      <th>ltv</th>\n",
       "      <th>branch_id</th>\n",
       "      <th>supplier_id</th>\n",
       "      <th>manufacturer_id</th>\n",
       "      <th>Current_pincode_ID</th>\n",
       "      <th>State_ID</th>\n",
       "      <th>Employee_code_ID</th>\n",
       "      <th>...</th>\n",
       "      <th>SEC.OVERDUE.ACCTS</th>\n",
       "      <th>SEC.CURRENT.BALANCE</th>\n",
       "      <th>SEC.SANCTIONED.AMOUNT</th>\n",
       "      <th>SEC.DISBURSED.AMOUNT</th>\n",
       "      <th>PRIMARY.INSTAL.AMT</th>\n",
       "      <th>SEC.INSTAL.AMT</th>\n",
       "      <th>NEW.ACCTS.IN.LAST.SIX.MONTHS</th>\n",
       "      <th>DELINQUENT.ACCTS.IN.LAST.SIX.MONTHS</th>\n",
       "      <th>NO.OF_INQUIRIES</th>\n",
       "      <th>loan_default</th>\n",
       "    </tr>\n",
       "  </thead>\n",
       "  <tbody>\n",
       "    <tr>\n",
       "      <th>count</th>\n",
       "      <td>233154.000000</td>\n",
       "      <td>233154.000000</td>\n",
       "      <td>2.331540e+05</td>\n",
       "      <td>233154.000000</td>\n",
       "      <td>233154.000000</td>\n",
       "      <td>233154.000000</td>\n",
       "      <td>233154.000000</td>\n",
       "      <td>233154.000000</td>\n",
       "      <td>233154.000000</td>\n",
       "      <td>233154.000000</td>\n",
       "      <td>...</td>\n",
       "      <td>233154.000000</td>\n",
       "      <td>2.331540e+05</td>\n",
       "      <td>2.331540e+05</td>\n",
       "      <td>2.331540e+05</td>\n",
       "      <td>2.331540e+05</td>\n",
       "      <td>2.331540e+05</td>\n",
       "      <td>233154.000000</td>\n",
       "      <td>233154.000000</td>\n",
       "      <td>233154.000000</td>\n",
       "      <td>233154.000000</td>\n",
       "    </tr>\n",
       "    <tr>\n",
       "      <th>mean</th>\n",
       "      <td>535917.573376</td>\n",
       "      <td>54356.993528</td>\n",
       "      <td>7.586507e+04</td>\n",
       "      <td>74.746530</td>\n",
       "      <td>72.936094</td>\n",
       "      <td>19638.635035</td>\n",
       "      <td>69.028054</td>\n",
       "      <td>3396.880247</td>\n",
       "      <td>7.262243</td>\n",
       "      <td>1549.477148</td>\n",
       "      <td>...</td>\n",
       "      <td>0.007244</td>\n",
       "      <td>5.427793e+03</td>\n",
       "      <td>7.295923e+03</td>\n",
       "      <td>7.179998e+03</td>\n",
       "      <td>1.310548e+04</td>\n",
       "      <td>3.232684e+02</td>\n",
       "      <td>0.381833</td>\n",
       "      <td>0.097481</td>\n",
       "      <td>0.206615</td>\n",
       "      <td>0.217071</td>\n",
       "    </tr>\n",
       "    <tr>\n",
       "      <th>std</th>\n",
       "      <td>68315.693711</td>\n",
       "      <td>12971.314171</td>\n",
       "      <td>1.894478e+04</td>\n",
       "      <td>11.456636</td>\n",
       "      <td>69.834995</td>\n",
       "      <td>3491.949566</td>\n",
       "      <td>22.141304</td>\n",
       "      <td>2238.147502</td>\n",
       "      <td>4.482230</td>\n",
       "      <td>975.261278</td>\n",
       "      <td>...</td>\n",
       "      <td>0.111079</td>\n",
       "      <td>1.702370e+05</td>\n",
       "      <td>1.831560e+05</td>\n",
       "      <td>1.825925e+05</td>\n",
       "      <td>1.513679e+05</td>\n",
       "      <td>1.555369e+04</td>\n",
       "      <td>0.955107</td>\n",
       "      <td>0.384439</td>\n",
       "      <td>0.706498</td>\n",
       "      <td>0.412252</td>\n",
       "    </tr>\n",
       "    <tr>\n",
       "      <th>min</th>\n",
       "      <td>417428.000000</td>\n",
       "      <td>13320.000000</td>\n",
       "      <td>3.700000e+04</td>\n",
       "      <td>10.030000</td>\n",
       "      <td>1.000000</td>\n",
       "      <td>10524.000000</td>\n",
       "      <td>45.000000</td>\n",
       "      <td>1.000000</td>\n",
       "      <td>1.000000</td>\n",
       "      <td>1.000000</td>\n",
       "      <td>...</td>\n",
       "      <td>0.000000</td>\n",
       "      <td>-5.746470e+05</td>\n",
       "      <td>0.000000e+00</td>\n",
       "      <td>0.000000e+00</td>\n",
       "      <td>0.000000e+00</td>\n",
       "      <td>0.000000e+00</td>\n",
       "      <td>0.000000</td>\n",
       "      <td>0.000000</td>\n",
       "      <td>0.000000</td>\n",
       "      <td>0.000000</td>\n",
       "    </tr>\n",
       "    <tr>\n",
       "      <th>25%</th>\n",
       "      <td>476786.250000</td>\n",
       "      <td>47145.000000</td>\n",
       "      <td>6.571700e+04</td>\n",
       "      <td>68.880000</td>\n",
       "      <td>14.000000</td>\n",
       "      <td>16535.000000</td>\n",
       "      <td>48.000000</td>\n",
       "      <td>1511.000000</td>\n",
       "      <td>4.000000</td>\n",
       "      <td>713.000000</td>\n",
       "      <td>...</td>\n",
       "      <td>0.000000</td>\n",
       "      <td>0.000000e+00</td>\n",
       "      <td>0.000000e+00</td>\n",
       "      <td>0.000000e+00</td>\n",
       "      <td>0.000000e+00</td>\n",
       "      <td>0.000000e+00</td>\n",
       "      <td>0.000000</td>\n",
       "      <td>0.000000</td>\n",
       "      <td>0.000000</td>\n",
       "      <td>0.000000</td>\n",
       "    </tr>\n",
       "    <tr>\n",
       "      <th>50%</th>\n",
       "      <td>535978.500000</td>\n",
       "      <td>53803.000000</td>\n",
       "      <td>7.094600e+04</td>\n",
       "      <td>76.800000</td>\n",
       "      <td>61.000000</td>\n",
       "      <td>20333.000000</td>\n",
       "      <td>86.000000</td>\n",
       "      <td>2970.000000</td>\n",
       "      <td>6.000000</td>\n",
       "      <td>1451.000000</td>\n",
       "      <td>...</td>\n",
       "      <td>0.000000</td>\n",
       "      <td>0.000000e+00</td>\n",
       "      <td>0.000000e+00</td>\n",
       "      <td>0.000000e+00</td>\n",
       "      <td>0.000000e+00</td>\n",
       "      <td>0.000000e+00</td>\n",
       "      <td>0.000000</td>\n",
       "      <td>0.000000</td>\n",
       "      <td>0.000000</td>\n",
       "      <td>0.000000</td>\n",
       "    </tr>\n",
       "    <tr>\n",
       "      <th>75%</th>\n",
       "      <td>595039.750000</td>\n",
       "      <td>60413.000000</td>\n",
       "      <td>7.920175e+04</td>\n",
       "      <td>83.670000</td>\n",
       "      <td>130.000000</td>\n",
       "      <td>23000.000000</td>\n",
       "      <td>86.000000</td>\n",
       "      <td>5677.000000</td>\n",
       "      <td>10.000000</td>\n",
       "      <td>2362.000000</td>\n",
       "      <td>...</td>\n",
       "      <td>0.000000</td>\n",
       "      <td>0.000000e+00</td>\n",
       "      <td>0.000000e+00</td>\n",
       "      <td>0.000000e+00</td>\n",
       "      <td>1.999000e+03</td>\n",
       "      <td>0.000000e+00</td>\n",
       "      <td>0.000000</td>\n",
       "      <td>0.000000</td>\n",
       "      <td>0.000000</td>\n",
       "      <td>0.000000</td>\n",
       "    </tr>\n",
       "    <tr>\n",
       "      <th>max</th>\n",
       "      <td>671084.000000</td>\n",
       "      <td>990572.000000</td>\n",
       "      <td>1.628992e+06</td>\n",
       "      <td>95.000000</td>\n",
       "      <td>261.000000</td>\n",
       "      <td>24803.000000</td>\n",
       "      <td>156.000000</td>\n",
       "      <td>7345.000000</td>\n",
       "      <td>22.000000</td>\n",
       "      <td>3795.000000</td>\n",
       "      <td>...</td>\n",
       "      <td>8.000000</td>\n",
       "      <td>3.603285e+07</td>\n",
       "      <td>3.000000e+07</td>\n",
       "      <td>3.000000e+07</td>\n",
       "      <td>2.564281e+07</td>\n",
       "      <td>4.170901e+06</td>\n",
       "      <td>35.000000</td>\n",
       "      <td>20.000000</td>\n",
       "      <td>36.000000</td>\n",
       "      <td>1.000000</td>\n",
       "    </tr>\n",
       "  </tbody>\n",
       "</table>\n",
       "<p>8 rows × 35 columns</p>\n",
       "</div>"
      ],
      "text/plain": [
       "            UniqueID  disbursed_amount    asset_cost            ltv  \\\n",
       "count  233154.000000     233154.000000  2.331540e+05  233154.000000   \n",
       "mean   535917.573376      54356.993528  7.586507e+04      74.746530   \n",
       "std     68315.693711      12971.314171  1.894478e+04      11.456636   \n",
       "min    417428.000000      13320.000000  3.700000e+04      10.030000   \n",
       "25%    476786.250000      47145.000000  6.571700e+04      68.880000   \n",
       "50%    535978.500000      53803.000000  7.094600e+04      76.800000   \n",
       "75%    595039.750000      60413.000000  7.920175e+04      83.670000   \n",
       "max    671084.000000     990572.000000  1.628992e+06      95.000000   \n",
       "\n",
       "           branch_id    supplier_id  manufacturer_id  Current_pincode_ID  \\\n",
       "count  233154.000000  233154.000000    233154.000000       233154.000000   \n",
       "mean       72.936094   19638.635035        69.028054         3396.880247   \n",
       "std        69.834995    3491.949566        22.141304         2238.147502   \n",
       "min         1.000000   10524.000000        45.000000            1.000000   \n",
       "25%        14.000000   16535.000000        48.000000         1511.000000   \n",
       "50%        61.000000   20333.000000        86.000000         2970.000000   \n",
       "75%       130.000000   23000.000000        86.000000         5677.000000   \n",
       "max       261.000000   24803.000000       156.000000         7345.000000   \n",
       "\n",
       "            State_ID  Employee_code_ID  ...  SEC.OVERDUE.ACCTS  \\\n",
       "count  233154.000000     233154.000000  ...      233154.000000   \n",
       "mean        7.262243       1549.477148  ...           0.007244   \n",
       "std         4.482230        975.261278  ...           0.111079   \n",
       "min         1.000000          1.000000  ...           0.000000   \n",
       "25%         4.000000        713.000000  ...           0.000000   \n",
       "50%         6.000000       1451.000000  ...           0.000000   \n",
       "75%        10.000000       2362.000000  ...           0.000000   \n",
       "max        22.000000       3795.000000  ...           8.000000   \n",
       "\n",
       "       SEC.CURRENT.BALANCE  SEC.SANCTIONED.AMOUNT  SEC.DISBURSED.AMOUNT  \\\n",
       "count         2.331540e+05           2.331540e+05          2.331540e+05   \n",
       "mean          5.427793e+03           7.295923e+03          7.179998e+03   \n",
       "std           1.702370e+05           1.831560e+05          1.825925e+05   \n",
       "min          -5.746470e+05           0.000000e+00          0.000000e+00   \n",
       "25%           0.000000e+00           0.000000e+00          0.000000e+00   \n",
       "50%           0.000000e+00           0.000000e+00          0.000000e+00   \n",
       "75%           0.000000e+00           0.000000e+00          0.000000e+00   \n",
       "max           3.603285e+07           3.000000e+07          3.000000e+07   \n",
       "\n",
       "       PRIMARY.INSTAL.AMT  SEC.INSTAL.AMT  NEW.ACCTS.IN.LAST.SIX.MONTHS  \\\n",
       "count        2.331540e+05    2.331540e+05                 233154.000000   \n",
       "mean         1.310548e+04    3.232684e+02                      0.381833   \n",
       "std          1.513679e+05    1.555369e+04                      0.955107   \n",
       "min          0.000000e+00    0.000000e+00                      0.000000   \n",
       "25%          0.000000e+00    0.000000e+00                      0.000000   \n",
       "50%          0.000000e+00    0.000000e+00                      0.000000   \n",
       "75%          1.999000e+03    0.000000e+00                      0.000000   \n",
       "max          2.564281e+07    4.170901e+06                     35.000000   \n",
       "\n",
       "       DELINQUENT.ACCTS.IN.LAST.SIX.MONTHS  NO.OF_INQUIRIES   loan_default  \n",
       "count                        233154.000000    233154.000000  233154.000000  \n",
       "mean                              0.097481         0.206615       0.217071  \n",
       "std                               0.384439         0.706498       0.412252  \n",
       "min                               0.000000         0.000000       0.000000  \n",
       "25%                               0.000000         0.000000       0.000000  \n",
       "50%                               0.000000         0.000000       0.000000  \n",
       "75%                               0.000000         0.000000       0.000000  \n",
       "max                              20.000000        36.000000       1.000000  \n",
       "\n",
       "[8 rows x 35 columns]"
      ]
     },
     "execution_count": 5,
     "metadata": {},
     "output_type": "execute_result"
    }
   ],
   "source": [
    "train_df.describe()"
   ]
  },
  {
   "cell_type": "code",
   "execution_count": 6,
   "id": "dfdf3f6f",
   "metadata": {},
   "outputs": [
    {
     "data": {
      "text/html": [
       "<div>\n",
       "<style scoped>\n",
       "    .dataframe tbody tr th:only-of-type {\n",
       "        vertical-align: middle;\n",
       "    }\n",
       "\n",
       "    .dataframe tbody tr th {\n",
       "        vertical-align: top;\n",
       "    }\n",
       "\n",
       "    .dataframe thead th {\n",
       "        text-align: right;\n",
       "    }\n",
       "</style>\n",
       "<table border=\"1\" class=\"dataframe\">\n",
       "  <thead>\n",
       "    <tr style=\"text-align: right;\">\n",
       "      <th></th>\n",
       "      <th>Date.of.Birth</th>\n",
       "      <th>Employment.Type</th>\n",
       "      <th>DisbursalDate</th>\n",
       "      <th>PERFORM_CNS.SCORE.DESCRIPTION</th>\n",
       "      <th>AVERAGE.ACCT.AGE</th>\n",
       "      <th>CREDIT.HISTORY.LENGTH</th>\n",
       "    </tr>\n",
       "  </thead>\n",
       "  <tbody>\n",
       "    <tr>\n",
       "      <th>count</th>\n",
       "      <td>233154</td>\n",
       "      <td>225493</td>\n",
       "      <td>233154</td>\n",
       "      <td>233154</td>\n",
       "      <td>233154</td>\n",
       "      <td>233154</td>\n",
       "    </tr>\n",
       "    <tr>\n",
       "      <th>unique</th>\n",
       "      <td>15433</td>\n",
       "      <td>2</td>\n",
       "      <td>84</td>\n",
       "      <td>20</td>\n",
       "      <td>192</td>\n",
       "      <td>294</td>\n",
       "    </tr>\n",
       "    <tr>\n",
       "      <th>top</th>\n",
       "      <td>01-01-88</td>\n",
       "      <td>Self employed</td>\n",
       "      <td>31-10-18</td>\n",
       "      <td>No Bureau History Available</td>\n",
       "      <td>0yrs 0mon</td>\n",
       "      <td>0yrs 0mon</td>\n",
       "    </tr>\n",
       "    <tr>\n",
       "      <th>freq</th>\n",
       "      <td>2173</td>\n",
       "      <td>127635</td>\n",
       "      <td>8826</td>\n",
       "      <td>116950</td>\n",
       "      <td>119373</td>\n",
       "      <td>119127</td>\n",
       "    </tr>\n",
       "  </tbody>\n",
       "</table>\n",
       "</div>"
      ],
      "text/plain": [
       "       Date.of.Birth Employment.Type DisbursalDate  \\\n",
       "count         233154          225493        233154   \n",
       "unique         15433               2            84   \n",
       "top         01-01-88   Self employed      31-10-18   \n",
       "freq            2173          127635          8826   \n",
       "\n",
       "       PERFORM_CNS.SCORE.DESCRIPTION AVERAGE.ACCT.AGE CREDIT.HISTORY.LENGTH  \n",
       "count                         233154           233154                233154  \n",
       "unique                            20              192                   294  \n",
       "top      No Bureau History Available        0yrs 0mon             0yrs 0mon  \n",
       "freq                          116950           119373                119127  "
      ]
     },
     "execution_count": 6,
     "metadata": {},
     "output_type": "execute_result"
    }
   ],
   "source": [
    "categorical_varaibles=train_df.describe(include=['O']) #Strings can also be used in the style of select_dtypes (e.g. df.describe(include=['O'])).\n",
    "categorical_varaibles"
   ]
  },
  {
   "cell_type": "code",
   "execution_count": 7,
   "id": "31410e32",
   "metadata": {},
   "outputs": [
    {
     "name": "stdout",
     "output_type": "stream",
     "text": [
      "UniqueID                               0.000000\n",
      "disbursed_amount                       0.000000\n",
      "asset_cost                             0.000000\n",
      "ltv                                    0.000000\n",
      "branch_id                              0.000000\n",
      "supplier_id                            0.000000\n",
      "manufacturer_id                        0.000000\n",
      "Current_pincode_ID                     0.000000\n",
      "Date.of.Birth                          0.000000\n",
      "Employment.Type                        3.285811\n",
      "DisbursalDate                          0.000000\n",
      "State_ID                               0.000000\n",
      "Employee_code_ID                       0.000000\n",
      "MobileNo_Avl_Flag                      0.000000\n",
      "Aadhar_flag                            0.000000\n",
      "PAN_flag                               0.000000\n",
      "VoterID_flag                           0.000000\n",
      "Driving_flag                           0.000000\n",
      "Passport_flag                          0.000000\n",
      "PERFORM_CNS.SCORE                      0.000000\n",
      "PERFORM_CNS.SCORE.DESCRIPTION          0.000000\n",
      "PRI.NO.OF.ACCTS                        0.000000\n",
      "PRI.ACTIVE.ACCTS                       0.000000\n",
      "PRI.OVERDUE.ACCTS                      0.000000\n",
      "PRI.CURRENT.BALANCE                    0.000000\n",
      "PRI.SANCTIONED.AMOUNT                  0.000000\n",
      "PRI.DISBURSED.AMOUNT                   0.000000\n",
      "SEC.NO.OF.ACCTS                        0.000000\n",
      "SEC.ACTIVE.ACCTS                       0.000000\n",
      "SEC.OVERDUE.ACCTS                      0.000000\n",
      "SEC.CURRENT.BALANCE                    0.000000\n",
      "SEC.SANCTIONED.AMOUNT                  0.000000\n",
      "SEC.DISBURSED.AMOUNT                   0.000000\n",
      "PRIMARY.INSTAL.AMT                     0.000000\n",
      "SEC.INSTAL.AMT                         0.000000\n",
      "NEW.ACCTS.IN.LAST.SIX.MONTHS           0.000000\n",
      "DELINQUENT.ACCTS.IN.LAST.SIX.MONTHS    0.000000\n",
      "AVERAGE.ACCT.AGE                       0.000000\n",
      "CREDIT.HISTORY.LENGTH                  0.000000\n",
      "NO.OF_INQUIRIES                        0.000000\n",
      "loan_default                           0.000000\n",
      "dtype: float64\n"
     ]
    }
   ],
   "source": [
    "#checking missing values (in percentage)\n",
    "print(train_df.isnull().sum()*100/train_df.shape[0])"
   ]
  },
  {
   "cell_type": "code",
   "execution_count": 8,
   "id": "ee09a07c",
   "metadata": {},
   "outputs": [
    {
     "name": "stdout",
     "output_type": "stream",
     "text": [
      "UniqueID                               0.000000\n",
      "disbursed_amount                       0.000000\n",
      "asset_cost                             0.000000\n",
      "ltv                                    0.000000\n",
      "branch_id                              0.000000\n",
      "supplier_id                            0.000000\n",
      "manufacturer_id                        0.000000\n",
      "Current_pincode_ID                     0.000000\n",
      "Date.of.Birth                          0.000000\n",
      "Employment.Type                        3.063385\n",
      "DisbursalDate                          0.000000\n",
      "State_ID                               0.000000\n",
      "Employee_code_ID                       0.000000\n",
      "MobileNo_Avl_Flag                      0.000000\n",
      "Aadhar_flag                            0.000000\n",
      "PAN_flag                               0.000000\n",
      "VoterID_flag                           0.000000\n",
      "Driving_flag                           0.000000\n",
      "Passport_flag                          0.000000\n",
      "PERFORM_CNS.SCORE                      0.000000\n",
      "PERFORM_CNS.SCORE.DESCRIPTION          0.000000\n",
      "PRI.NO.OF.ACCTS                        0.000000\n",
      "PRI.ACTIVE.ACCTS                       0.000000\n",
      "PRI.OVERDUE.ACCTS                      0.000000\n",
      "PRI.CURRENT.BALANCE                    0.000000\n",
      "PRI.SANCTIONED.AMOUNT                  0.000000\n",
      "PRI.DISBURSED.AMOUNT                   0.000000\n",
      "SEC.NO.OF.ACCTS                        0.000000\n",
      "SEC.ACTIVE.ACCTS                       0.000000\n",
      "SEC.OVERDUE.ACCTS                      0.000000\n",
      "SEC.CURRENT.BALANCE                    0.000000\n",
      "SEC.SANCTIONED.AMOUNT                  0.000000\n",
      "SEC.DISBURSED.AMOUNT                   0.000000\n",
      "PRIMARY.INSTAL.AMT                     0.000000\n",
      "SEC.INSTAL.AMT                         0.000000\n",
      "NEW.ACCTS.IN.LAST.SIX.MONTHS           0.000000\n",
      "DELINQUENT.ACCTS.IN.LAST.SIX.MONTHS    0.000000\n",
      "AVERAGE.ACCT.AGE                       0.000000\n",
      "CREDIT.HISTORY.LENGTH                  0.000000\n",
      "NO.OF_INQUIRIES                        0.000000\n",
      "dtype: float64\n"
     ]
    }
   ],
   "source": [
    "print(test_df.isnull().sum()*100/test_df.shape[0])"
   ]
  },
  {
   "cell_type": "markdown",
   "id": "d88a3cdc",
   "metadata": {},
   "source": [
    "we can see that in both trian and test data we have one variable that is Employment.Type which has less than 4 percent of missing data we can hence we can do mode imputation for the same"
   ]
  },
  {
   "cell_type": "code",
   "execution_count": 9,
   "id": "33c54700",
   "metadata": {},
   "outputs": [],
   "source": [
    "train_df = train_df.fillna(train_df.mode().iloc[0])\n",
    "test_df =  test_df.fillna(test_df.mode().iloc[0])"
   ]
  },
  {
   "cell_type": "markdown",
   "id": "1ac122bd",
   "metadata": {},
   "source": [
    "## Encoding Employment.type"
   ]
  },
  {
   "cell_type": "code",
   "execution_count": 10,
   "id": "7273f9b6",
   "metadata": {},
   "outputs": [
    {
     "name": "stdout",
     "output_type": "stream",
     "text": [
      "0 0\n"
     ]
    }
   ],
   "source": [
    "print(train_df['Employment.Type'].isnull().sum(), test_df['Employment.Type'].isnull().sum())"
   ]
  },
  {
   "cell_type": "code",
   "execution_count": 11,
   "id": "809c0f93",
   "metadata": {},
   "outputs": [],
   "source": [
    "train_df['self_employed'] = pd.get_dummies(train_df['Employment.Type'],drop_first=True)"
   ]
  },
  {
   "cell_type": "code",
   "execution_count": 12,
   "id": "4a8070ba",
   "metadata": {},
   "outputs": [
    {
     "data": {
      "text/plain": [
       "0         0\n",
       "1         1\n",
       "2         1\n",
       "3         1\n",
       "4         1\n",
       "         ..\n",
       "233149    0\n",
       "233150    1\n",
       "233151    0\n",
       "233152    0\n",
       "233153    0\n",
       "Name: self_employed, Length: 233154, dtype: uint8"
      ]
     },
     "execution_count": 12,
     "metadata": {},
     "output_type": "execute_result"
    }
   ],
   "source": [
    "train_df['self_employed']"
   ]
  },
  {
   "cell_type": "code",
   "execution_count": 13,
   "id": "c9119241",
   "metadata": {},
   "outputs": [],
   "source": [
    "test_df['self_employed'] = pd.get_dummies(test_df['Employment.Type'],drop_first=True)"
   ]
  },
  {
   "cell_type": "code",
   "execution_count": 14,
   "id": "4746ad01",
   "metadata": {},
   "outputs": [],
   "source": [
    "test_df.drop('Employment.Type',axis=1,inplace=True)"
   ]
  },
  {
   "cell_type": "code",
   "execution_count": 15,
   "id": "7aef22f7",
   "metadata": {},
   "outputs": [
    {
     "data": {
      "text/html": [
       "<div>\n",
       "<style scoped>\n",
       "    .dataframe tbody tr th:only-of-type {\n",
       "        vertical-align: middle;\n",
       "    }\n",
       "\n",
       "    .dataframe tbody tr th {\n",
       "        vertical-align: top;\n",
       "    }\n",
       "\n",
       "    .dataframe thead th {\n",
       "        text-align: right;\n",
       "    }\n",
       "</style>\n",
       "<table border=\"1\" class=\"dataframe\">\n",
       "  <thead>\n",
       "    <tr style=\"text-align: right;\">\n",
       "      <th></th>\n",
       "      <th>UniqueID</th>\n",
       "      <th>disbursed_amount</th>\n",
       "      <th>asset_cost</th>\n",
       "      <th>ltv</th>\n",
       "      <th>branch_id</th>\n",
       "      <th>supplier_id</th>\n",
       "      <th>manufacturer_id</th>\n",
       "      <th>Current_pincode_ID</th>\n",
       "      <th>Date.of.Birth</th>\n",
       "      <th>DisbursalDate</th>\n",
       "      <th>...</th>\n",
       "      <th>SEC.DISBURSED.AMOUNT</th>\n",
       "      <th>PRIMARY.INSTAL.AMT</th>\n",
       "      <th>SEC.INSTAL.AMT</th>\n",
       "      <th>NEW.ACCTS.IN.LAST.SIX.MONTHS</th>\n",
       "      <th>DELINQUENT.ACCTS.IN.LAST.SIX.MONTHS</th>\n",
       "      <th>AVERAGE.ACCT.AGE</th>\n",
       "      <th>CREDIT.HISTORY.LENGTH</th>\n",
       "      <th>NO.OF_INQUIRIES</th>\n",
       "      <th>loan_default</th>\n",
       "      <th>self_employed</th>\n",
       "    </tr>\n",
       "  </thead>\n",
       "  <tbody>\n",
       "    <tr>\n",
       "      <th>0</th>\n",
       "      <td>420825</td>\n",
       "      <td>50578</td>\n",
       "      <td>58400</td>\n",
       "      <td>89.55</td>\n",
       "      <td>67</td>\n",
       "      <td>22807</td>\n",
       "      <td>45</td>\n",
       "      <td>1441</td>\n",
       "      <td>01-01-84</td>\n",
       "      <td>03-08-18</td>\n",
       "      <td>...</td>\n",
       "      <td>0</td>\n",
       "      <td>0</td>\n",
       "      <td>0</td>\n",
       "      <td>0</td>\n",
       "      <td>0</td>\n",
       "      <td>0yrs 0mon</td>\n",
       "      <td>0yrs 0mon</td>\n",
       "      <td>0</td>\n",
       "      <td>0</td>\n",
       "      <td>0</td>\n",
       "    </tr>\n",
       "    <tr>\n",
       "      <th>1</th>\n",
       "      <td>537409</td>\n",
       "      <td>47145</td>\n",
       "      <td>65550</td>\n",
       "      <td>73.23</td>\n",
       "      <td>67</td>\n",
       "      <td>22807</td>\n",
       "      <td>45</td>\n",
       "      <td>1502</td>\n",
       "      <td>31-07-85</td>\n",
       "      <td>26-09-18</td>\n",
       "      <td>...</td>\n",
       "      <td>0</td>\n",
       "      <td>1991</td>\n",
       "      <td>0</td>\n",
       "      <td>0</td>\n",
       "      <td>1</td>\n",
       "      <td>1yrs 11mon</td>\n",
       "      <td>1yrs 11mon</td>\n",
       "      <td>0</td>\n",
       "      <td>1</td>\n",
       "      <td>1</td>\n",
       "    </tr>\n",
       "    <tr>\n",
       "      <th>2</th>\n",
       "      <td>417566</td>\n",
       "      <td>53278</td>\n",
       "      <td>61360</td>\n",
       "      <td>89.63</td>\n",
       "      <td>67</td>\n",
       "      <td>22807</td>\n",
       "      <td>45</td>\n",
       "      <td>1497</td>\n",
       "      <td>24-08-85</td>\n",
       "      <td>01-08-18</td>\n",
       "      <td>...</td>\n",
       "      <td>0</td>\n",
       "      <td>0</td>\n",
       "      <td>0</td>\n",
       "      <td>0</td>\n",
       "      <td>0</td>\n",
       "      <td>0yrs 0mon</td>\n",
       "      <td>0yrs 0mon</td>\n",
       "      <td>0</td>\n",
       "      <td>0</td>\n",
       "      <td>1</td>\n",
       "    </tr>\n",
       "    <tr>\n",
       "      <th>3</th>\n",
       "      <td>624493</td>\n",
       "      <td>57513</td>\n",
       "      <td>66113</td>\n",
       "      <td>88.48</td>\n",
       "      <td>67</td>\n",
       "      <td>22807</td>\n",
       "      <td>45</td>\n",
       "      <td>1501</td>\n",
       "      <td>30-12-93</td>\n",
       "      <td>26-10-18</td>\n",
       "      <td>...</td>\n",
       "      <td>0</td>\n",
       "      <td>31</td>\n",
       "      <td>0</td>\n",
       "      <td>0</td>\n",
       "      <td>0</td>\n",
       "      <td>0yrs 8mon</td>\n",
       "      <td>1yrs 3mon</td>\n",
       "      <td>1</td>\n",
       "      <td>1</td>\n",
       "      <td>1</td>\n",
       "    </tr>\n",
       "    <tr>\n",
       "      <th>4</th>\n",
       "      <td>539055</td>\n",
       "      <td>52378</td>\n",
       "      <td>60300</td>\n",
       "      <td>88.39</td>\n",
       "      <td>67</td>\n",
       "      <td>22807</td>\n",
       "      <td>45</td>\n",
       "      <td>1495</td>\n",
       "      <td>09-12-77</td>\n",
       "      <td>26-09-18</td>\n",
       "      <td>...</td>\n",
       "      <td>0</td>\n",
       "      <td>0</td>\n",
       "      <td>0</td>\n",
       "      <td>0</td>\n",
       "      <td>0</td>\n",
       "      <td>0yrs 0mon</td>\n",
       "      <td>0yrs 0mon</td>\n",
       "      <td>1</td>\n",
       "      <td>1</td>\n",
       "      <td>1</td>\n",
       "    </tr>\n",
       "  </tbody>\n",
       "</table>\n",
       "<p>5 rows × 41 columns</p>\n",
       "</div>"
      ],
      "text/plain": [
       "   UniqueID  disbursed_amount  asset_cost    ltv  branch_id  supplier_id  \\\n",
       "0    420825             50578       58400  89.55         67        22807   \n",
       "1    537409             47145       65550  73.23         67        22807   \n",
       "2    417566             53278       61360  89.63         67        22807   \n",
       "3    624493             57513       66113  88.48         67        22807   \n",
       "4    539055             52378       60300  88.39         67        22807   \n",
       "\n",
       "   manufacturer_id  Current_pincode_ID Date.of.Birth DisbursalDate  ...  \\\n",
       "0               45                1441      01-01-84      03-08-18  ...   \n",
       "1               45                1502      31-07-85      26-09-18  ...   \n",
       "2               45                1497      24-08-85      01-08-18  ...   \n",
       "3               45                1501      30-12-93      26-10-18  ...   \n",
       "4               45                1495      09-12-77      26-09-18  ...   \n",
       "\n",
       "   SEC.DISBURSED.AMOUNT  PRIMARY.INSTAL.AMT  SEC.INSTAL.AMT  \\\n",
       "0                     0                   0               0   \n",
       "1                     0                1991               0   \n",
       "2                     0                   0               0   \n",
       "3                     0                  31               0   \n",
       "4                     0                   0               0   \n",
       "\n",
       "   NEW.ACCTS.IN.LAST.SIX.MONTHS  DELINQUENT.ACCTS.IN.LAST.SIX.MONTHS  \\\n",
       "0                             0                                    0   \n",
       "1                             0                                    1   \n",
       "2                             0                                    0   \n",
       "3                             0                                    0   \n",
       "4                             0                                    0   \n",
       "\n",
       "   AVERAGE.ACCT.AGE  CREDIT.HISTORY.LENGTH  NO.OF_INQUIRIES  loan_default  \\\n",
       "0         0yrs 0mon              0yrs 0mon                0             0   \n",
       "1        1yrs 11mon             1yrs 11mon                0             1   \n",
       "2         0yrs 0mon              0yrs 0mon                0             0   \n",
       "3         0yrs 8mon              1yrs 3mon                1             1   \n",
       "4         0yrs 0mon              0yrs 0mon                1             1   \n",
       "\n",
       "  self_employed  \n",
       "0             0  \n",
       "1             1  \n",
       "2             1  \n",
       "3             1  \n",
       "4             1  \n",
       "\n",
       "[5 rows x 41 columns]"
      ]
     },
     "execution_count": 15,
     "metadata": {},
     "output_type": "execute_result"
    }
   ],
   "source": [
    "train_df.drop('Employment.Type',axis=1,inplace=True)\n",
    "train_df.head()"
   ]
  },
  {
   "cell_type": "markdown",
   "id": "639a8dd6",
   "metadata": {},
   "source": [
    "## checking for unique attributes"
   ]
  },
  {
   "cell_type": "code",
   "execution_count": 16,
   "id": "9b9b6b56",
   "metadata": {},
   "outputs": [
    {
     "data": {
      "text/plain": [
       "UniqueID                               233154\n",
       "disbursed_amount                        24565\n",
       "asset_cost                              46252\n",
       "ltv                                      6579\n",
       "branch_id                                  82\n",
       "supplier_id                              2953\n",
       "manufacturer_id                            11\n",
       "Current_pincode_ID                       6698\n",
       "Date.of.Birth                           15433\n",
       "DisbursalDate                              84\n",
       "State_ID                                   22\n",
       "Employee_code_ID                         3270\n",
       "MobileNo_Avl_Flag                           1\n",
       "Aadhar_flag                                 2\n",
       "PAN_flag                                    2\n",
       "VoterID_flag                                2\n",
       "Driving_flag                                2\n",
       "Passport_flag                               2\n",
       "PERFORM_CNS.SCORE                         573\n",
       "PERFORM_CNS.SCORE.DESCRIPTION              20\n",
       "PRI.NO.OF.ACCTS                           108\n",
       "PRI.ACTIVE.ACCTS                           40\n",
       "PRI.OVERDUE.ACCTS                          22\n",
       "PRI.CURRENT.BALANCE                     71341\n",
       "PRI.SANCTIONED.AMOUNT                   44390\n",
       "PRI.DISBURSED.AMOUNT                    47909\n",
       "SEC.NO.OF.ACCTS                            37\n",
       "SEC.ACTIVE.ACCTS                           23\n",
       "SEC.OVERDUE.ACCTS                           9\n",
       "SEC.CURRENT.BALANCE                      3246\n",
       "SEC.SANCTIONED.AMOUNT                    2223\n",
       "SEC.DISBURSED.AMOUNT                     2553\n",
       "PRIMARY.INSTAL.AMT                      28067\n",
       "SEC.INSTAL.AMT                           1918\n",
       "NEW.ACCTS.IN.LAST.SIX.MONTHS               26\n",
       "DELINQUENT.ACCTS.IN.LAST.SIX.MONTHS        14\n",
       "AVERAGE.ACCT.AGE                          192\n",
       "CREDIT.HISTORY.LENGTH                     294\n",
       "NO.OF_INQUIRIES                            25\n",
       "loan_default                                2\n",
       "self_employed                               2\n",
       "dtype: int64"
      ]
     },
     "execution_count": 16,
     "metadata": {},
     "output_type": "execute_result"
    }
   ],
   "source": [
    "train_df.nunique()"
   ]
  },
  {
   "cell_type": "markdown",
   "id": "af1f276f",
   "metadata": {},
   "source": [
    "from the above information we can straightaway say that the variable MobileNo_Avl_Flag is not going to provide any unique information to our predictive since it has only 1 class hence we can drop that variable"
   ]
  },
  {
   "cell_type": "code",
   "execution_count": 17,
   "id": "630a5cd6",
   "metadata": {},
   "outputs": [],
   "source": [
    "train_df = train_df.drop(columns = 'MobileNo_Avl_Flag')\n",
    "test_df = test_df.drop(columns = 'MobileNo_Avl_Flag')"
   ]
  },
  {
   "cell_type": "code",
   "execution_count": 18,
   "id": "2e805e52",
   "metadata": {},
   "outputs": [
    {
     "data": {
      "text/html": [
       "<div>\n",
       "<style scoped>\n",
       "    .dataframe tbody tr th:only-of-type {\n",
       "        vertical-align: middle;\n",
       "    }\n",
       "\n",
       "    .dataframe tbody tr th {\n",
       "        vertical-align: top;\n",
       "    }\n",
       "\n",
       "    .dataframe thead th {\n",
       "        text-align: right;\n",
       "    }\n",
       "</style>\n",
       "<table border=\"1\" class=\"dataframe\">\n",
       "  <thead>\n",
       "    <tr style=\"text-align: right;\">\n",
       "      <th></th>\n",
       "      <th>Date.of.Birth</th>\n",
       "      <th>DisbursalDate</th>\n",
       "      <th>PERFORM_CNS.SCORE.DESCRIPTION</th>\n",
       "      <th>AVERAGE.ACCT.AGE</th>\n",
       "      <th>CREDIT.HISTORY.LENGTH</th>\n",
       "    </tr>\n",
       "  </thead>\n",
       "  <tbody>\n",
       "    <tr>\n",
       "      <th>0</th>\n",
       "      <td>01-01-84</td>\n",
       "      <td>03-08-18</td>\n",
       "      <td>No Bureau History Available</td>\n",
       "      <td>0yrs 0mon</td>\n",
       "      <td>0yrs 0mon</td>\n",
       "    </tr>\n",
       "    <tr>\n",
       "      <th>1</th>\n",
       "      <td>31-07-85</td>\n",
       "      <td>26-09-18</td>\n",
       "      <td>I-Medium Risk</td>\n",
       "      <td>1yrs 11mon</td>\n",
       "      <td>1yrs 11mon</td>\n",
       "    </tr>\n",
       "    <tr>\n",
       "      <th>2</th>\n",
       "      <td>24-08-85</td>\n",
       "      <td>01-08-18</td>\n",
       "      <td>No Bureau History Available</td>\n",
       "      <td>0yrs 0mon</td>\n",
       "      <td>0yrs 0mon</td>\n",
       "    </tr>\n",
       "    <tr>\n",
       "      <th>3</th>\n",
       "      <td>30-12-93</td>\n",
       "      <td>26-10-18</td>\n",
       "      <td>L-Very High Risk</td>\n",
       "      <td>0yrs 8mon</td>\n",
       "      <td>1yrs 3mon</td>\n",
       "    </tr>\n",
       "    <tr>\n",
       "      <th>4</th>\n",
       "      <td>09-12-77</td>\n",
       "      <td>26-09-18</td>\n",
       "      <td>No Bureau History Available</td>\n",
       "      <td>0yrs 0mon</td>\n",
       "      <td>0yrs 0mon</td>\n",
       "    </tr>\n",
       "  </tbody>\n",
       "</table>\n",
       "</div>"
      ],
      "text/plain": [
       "  Date.of.Birth DisbursalDate PERFORM_CNS.SCORE.DESCRIPTION AVERAGE.ACCT.AGE  \\\n",
       "0      01-01-84      03-08-18   No Bureau History Available        0yrs 0mon   \n",
       "1      31-07-85      26-09-18                 I-Medium Risk       1yrs 11mon   \n",
       "2      24-08-85      01-08-18   No Bureau History Available        0yrs 0mon   \n",
       "3      30-12-93      26-10-18              L-Very High Risk        0yrs 8mon   \n",
       "4      09-12-77      26-09-18   No Bureau History Available        0yrs 0mon   \n",
       "\n",
       "  CREDIT.HISTORY.LENGTH  \n",
       "0             0yrs 0mon  \n",
       "1            1yrs 11mon  \n",
       "2             0yrs 0mon  \n",
       "3             1yrs 3mon  \n",
       "4             0yrs 0mon  "
      ]
     },
     "execution_count": 18,
     "metadata": {},
     "output_type": "execute_result"
    }
   ],
   "source": [
    "# Lets get all categorical data present\n",
    "str_cols = train_df.select_dtypes(include = 'object').columns\n",
    "train_df[str_cols].head()"
   ]
  },
  {
   "cell_type": "code",
   "execution_count": 19,
   "id": "62ec2091",
   "metadata": {},
   "outputs": [
    {
     "data": {
      "text/html": [
       "<div>\n",
       "<style scoped>\n",
       "    .dataframe tbody tr th:only-of-type {\n",
       "        vertical-align: middle;\n",
       "    }\n",
       "\n",
       "    .dataframe tbody tr th {\n",
       "        vertical-align: top;\n",
       "    }\n",
       "\n",
       "    .dataframe thead th {\n",
       "        text-align: right;\n",
       "    }\n",
       "</style>\n",
       "<table border=\"1\" class=\"dataframe\">\n",
       "  <thead>\n",
       "    <tr style=\"text-align: right;\">\n",
       "      <th></th>\n",
       "      <th>Date.of.Birth</th>\n",
       "      <th>DisbursalDate</th>\n",
       "      <th>PERFORM_CNS.SCORE.DESCRIPTION</th>\n",
       "      <th>AVERAGE.ACCT.AGE</th>\n",
       "      <th>CREDIT.HISTORY.LENGTH</th>\n",
       "    </tr>\n",
       "  </thead>\n",
       "  <tbody>\n",
       "    <tr>\n",
       "      <th>0</th>\n",
       "      <td>01-01-74</td>\n",
       "      <td>03-11-18</td>\n",
       "      <td>No Bureau History Available</td>\n",
       "      <td>0yrs 0mon</td>\n",
       "      <td>0yrs 0mon</td>\n",
       "    </tr>\n",
       "    <tr>\n",
       "      <th>1</th>\n",
       "      <td>20-05-85</td>\n",
       "      <td>20-11-18</td>\n",
       "      <td>C-Very Low Risk</td>\n",
       "      <td>0yrs 8mon</td>\n",
       "      <td>1yrs 0mon</td>\n",
       "    </tr>\n",
       "    <tr>\n",
       "      <th>2</th>\n",
       "      <td>14-10-95</td>\n",
       "      <td>29-11-18</td>\n",
       "      <td>No Bureau History Available</td>\n",
       "      <td>0yrs 0mon</td>\n",
       "      <td>0yrs 0mon</td>\n",
       "    </tr>\n",
       "    <tr>\n",
       "      <th>3</th>\n",
       "      <td>01-06-73</td>\n",
       "      <td>29-11-18</td>\n",
       "      <td>Not Scored: Only a Guarantor</td>\n",
       "      <td>2yrs 5mon</td>\n",
       "      <td>2yrs 5mon</td>\n",
       "    </tr>\n",
       "    <tr>\n",
       "      <th>4</th>\n",
       "      <td>01-06-72</td>\n",
       "      <td>17-11-18</td>\n",
       "      <td>No Bureau History Available</td>\n",
       "      <td>0yrs 0mon</td>\n",
       "      <td>0yrs 0mon</td>\n",
       "    </tr>\n",
       "  </tbody>\n",
       "</table>\n",
       "</div>"
      ],
      "text/plain": [
       "  Date.of.Birth DisbursalDate PERFORM_CNS.SCORE.DESCRIPTION AVERAGE.ACCT.AGE  \\\n",
       "0      01-01-74      03-11-18   No Bureau History Available        0yrs 0mon   \n",
       "1      20-05-85      20-11-18               C-Very Low Risk        0yrs 8mon   \n",
       "2      14-10-95      29-11-18   No Bureau History Available        0yrs 0mon   \n",
       "3      01-06-73      29-11-18  Not Scored: Only a Guarantor        2yrs 5mon   \n",
       "4      01-06-72      17-11-18   No Bureau History Available        0yrs 0mon   \n",
       "\n",
       "  CREDIT.HISTORY.LENGTH  \n",
       "0             0yrs 0mon  \n",
       "1             1yrs 0mon  \n",
       "2             0yrs 0mon  \n",
       "3             2yrs 5mon  \n",
       "4             0yrs 0mon  "
      ]
     },
     "execution_count": 19,
     "metadata": {},
     "output_type": "execute_result"
    }
   ],
   "source": [
    "str_cols = test_df.select_dtypes(include = 'object').columns\n",
    "test_df[str_cols].head()"
   ]
  },
  {
   "cell_type": "markdown",
   "id": "f71365ab",
   "metadata": {},
   "source": [
    "here we can see the following insights\n",
    "\n",
    "   1. We need to change the date and time related variables (Date.of.Birth,DisbursalDate,AVERAGE.ACCT.AGE and AVERAGE.ACCT.AGE)       to int\n",
    "   2. The beauruea data history is given under the variable PERFORM_CNS.SCORE.DESCRIPTION with 20 distinct classes we need to         figure out a way to encode it such that its acceptable to our model"
   ]
  },
  {
   "cell_type": "code",
   "execution_count": 20,
   "id": "b8acc09c",
   "metadata": {},
   "outputs": [
    {
     "data": {
      "text/plain": [
       "UniqueID                                 int64\n",
       "disbursed_amount                         int64\n",
       "asset_cost                               int64\n",
       "ltv                                    float64\n",
       "branch_id                                int64\n",
       "supplier_id                              int64\n",
       "manufacturer_id                          int64\n",
       "Current_pincode_ID                       int64\n",
       "Date.of.Birth                           object\n",
       "DisbursalDate                           object\n",
       "State_ID                                 int64\n",
       "Employee_code_ID                         int64\n",
       "Aadhar_flag                              int64\n",
       "PAN_flag                                 int64\n",
       "VoterID_flag                             int64\n",
       "Driving_flag                             int64\n",
       "Passport_flag                            int64\n",
       "PERFORM_CNS.SCORE                        int64\n",
       "PERFORM_CNS.SCORE.DESCRIPTION           object\n",
       "PRI.NO.OF.ACCTS                          int64\n",
       "PRI.ACTIVE.ACCTS                         int64\n",
       "PRI.OVERDUE.ACCTS                        int64\n",
       "PRI.CURRENT.BALANCE                      int64\n",
       "PRI.SANCTIONED.AMOUNT                    int64\n",
       "PRI.DISBURSED.AMOUNT                     int64\n",
       "SEC.NO.OF.ACCTS                          int64\n",
       "SEC.ACTIVE.ACCTS                         int64\n",
       "SEC.OVERDUE.ACCTS                        int64\n",
       "SEC.CURRENT.BALANCE                      int64\n",
       "SEC.SANCTIONED.AMOUNT                    int64\n",
       "SEC.DISBURSED.AMOUNT                     int64\n",
       "PRIMARY.INSTAL.AMT                       int64\n",
       "SEC.INSTAL.AMT                           int64\n",
       "NEW.ACCTS.IN.LAST.SIX.MONTHS             int64\n",
       "DELINQUENT.ACCTS.IN.LAST.SIX.MONTHS      int64\n",
       "AVERAGE.ACCT.AGE                        object\n",
       "CREDIT.HISTORY.LENGTH                   object\n",
       "NO.OF_INQUIRIES                          int64\n",
       "loan_default                             int64\n",
       "self_employed                            uint8\n",
       "dtype: object"
      ]
     },
     "execution_count": 20,
     "metadata": {},
     "output_type": "execute_result"
    }
   ],
   "source": [
    "train_df.dtypes"
   ]
  },
  {
   "cell_type": "code",
   "execution_count": 21,
   "id": "c6467ba8",
   "metadata": {},
   "outputs": [],
   "source": [
    "def age(dob):\n",
    "    yr = int(dob.split('-')[2])\n",
    "    if yr >=0 and yr < 21:\n",
    "        return yr + 2000\n",
    "    else:\n",
    "         return yr + 1900\n",
    "        \n",
    "test_df['Date.of.Birth'] = test_df['Date.of.Birth'].apply(age)\n",
    "test_df['DisbursalDate'] = test_df['DisbursalDate'].apply(age)\n",
    "# Age of the customer at the time of disbursement of fund\n",
    "test_df['Age'] = test_df['DisbursalDate'] - test_df['Date.of.Birth']\n",
    "\n",
    "train_df['Date.of.Birth'] = train_df['Date.of.Birth'].apply(age)\n",
    "train_df['DisbursalDate'] = train_df['DisbursalDate'].apply(age)\n",
    "# Age of the customer at the time of disbursement of fund\n",
    "train_df['Age'] = train_df['DisbursalDate'] - train_df['Date.of.Birth']"
   ]
  },
  {
   "cell_type": "code",
   "execution_count": 22,
   "id": "b46e6f60",
   "metadata": {},
   "outputs": [
    {
     "data": {
      "text/plain": [
       "0         44\n",
       "1         33\n",
       "2         23\n",
       "3         45\n",
       "4         46\n",
       "          ..\n",
       "112387    26\n",
       "112388    34\n",
       "112389    32\n",
       "112390    45\n",
       "112391    44\n",
       "Name: Age, Length: 112392, dtype: int64"
      ]
     },
     "execution_count": 22,
     "metadata": {},
     "output_type": "execute_result"
    }
   ],
   "source": [
    "test_df['Age']"
   ]
  },
  {
   "cell_type": "code",
   "execution_count": 23,
   "id": "50f21fdc",
   "metadata": {},
   "outputs": [
    {
     "data": {
      "text/plain": [
       "0         34\n",
       "1         33\n",
       "2         33\n",
       "3         25\n",
       "4         41\n",
       "          ..\n",
       "233149    30\n",
       "233150    30\n",
       "233151    42\n",
       "233152    24\n",
       "233153    34\n",
       "Name: Age, Length: 233154, dtype: int64"
      ]
     },
     "execution_count": 23,
     "metadata": {},
     "output_type": "execute_result"
    }
   ],
   "source": [
    "train_df['Age']"
   ]
  },
  {
   "cell_type": "code",
   "execution_count": 24,
   "id": "94085060",
   "metadata": {},
   "outputs": [],
   "source": [
    "train_df.drop(['Date.of.Birth','DisbursalDate'],axis=1,inplace=True)\n",
    "test_df.drop(['Date.of.Birth','DisbursalDate'],axis=1,inplace=True)"
   ]
  },
  {
   "cell_type": "markdown",
   "id": "296a1c71",
   "metadata": {},
   "source": [
    "## Perform cns score description"
   ]
  },
  {
   "cell_type": "code",
   "execution_count": 25,
   "id": "5aea7954",
   "metadata": {},
   "outputs": [
    {
     "data": {
      "text/plain": [
       "count                          233154\n",
       "unique                             20\n",
       "top       No Bureau History Available\n",
       "freq                           116950\n",
       "Name: PERFORM_CNS.SCORE.DESCRIPTION, dtype: object"
      ]
     },
     "execution_count": 25,
     "metadata": {},
     "output_type": "execute_result"
    }
   ],
   "source": [
    "train_df['PERFORM_CNS.SCORE.DESCRIPTION'].describe()"
   ]
  },
  {
   "cell_type": "code",
   "execution_count": 26,
   "id": "cd45b0fd",
   "metadata": {},
   "outputs": [
    {
     "data": {
      "text/plain": [
       "No Bureau History Available                                116950\n",
       "C-Very Low Risk                                             16045\n",
       "A-Very Low Risk                                             14124\n",
       "D-Very Low Risk                                             11358\n",
       "B-Very Low Risk                                              9201\n",
       "M-Very High Risk                                             8776\n",
       "F-Low Risk                                                   8485\n",
       "K-High Risk                                                  8277\n",
       "H-Medium Risk                                                6855\n",
       "E-Low Risk                                                   5821\n",
       "I-Medium Risk                                                5557\n",
       "G-Low Risk                                                   3988\n",
       "Not Scored: Sufficient History Not Available                 3765\n",
       "J-High Risk                                                  3748\n",
       "Not Scored: Not Enough Info available on the customer        3672\n",
       "Not Scored: No Activity seen on the customer (Inactive)      2885\n",
       "Not Scored: No Updates available in last 36 months           1534\n",
       "L-Very High Risk                                             1134\n",
       "Not Scored: Only a Guarantor                                  976\n",
       "Not Scored: More than 50 active Accounts found                  3\n",
       "Name: PERFORM_CNS.SCORE.DESCRIPTION, dtype: int64"
      ]
     },
     "execution_count": 26,
     "metadata": {},
     "output_type": "execute_result"
    }
   ],
   "source": [
    "train_df['PERFORM_CNS.SCORE.DESCRIPTION'].value_counts()"
   ]
  },
  {
   "cell_type": "code",
   "execution_count": 27,
   "id": "b5b167f5",
   "metadata": {},
   "outputs": [],
   "source": [
    "def risk(df):\n",
    "\n",
    "    risk_col = []\n",
    "\n",
    "    for i in df['PERFORM_CNS.SCORE.DESCRIPTION']:\n",
    "      if ('Very Low' in i):\n",
    "          risk_col.append('Very Low Risk')\n",
    "      elif ('Low' in i):\n",
    "          risk_col.append('Low Risk')\n",
    "      elif ('Medium' in i):\n",
    "          risk_col.append('Medium Risk')\n",
    "      elif ('High' in i):\n",
    "          risk_col.append('High Risk')\n",
    "      elif ('Very High' in i):\n",
    "          risk_col.append('Very High Risk')\n",
    "      else: \n",
    "          risk_col.append('Not Scored')\n",
    "    \n",
    "    df['risk'] = risk_col\n",
    "    return risk\n"
   ]
  },
  {
   "cell_type": "code",
   "execution_count": 28,
   "id": "2db3df91",
   "metadata": {},
   "outputs": [
    {
     "data": {
      "text/plain": [
       "<function __main__.risk(df)>"
      ]
     },
     "execution_count": 28,
     "metadata": {},
     "output_type": "execute_result"
    }
   ],
   "source": [
    "risk(train_df)\n",
    "risk(test_df)"
   ]
  },
  {
   "cell_type": "code",
   "execution_count": 29,
   "id": "d28d2f4f",
   "metadata": {},
   "outputs": [
    {
     "data": {
      "text/plain": [
       "0            Not Scored\n",
       "1         Very Low Risk\n",
       "2            Not Scored\n",
       "3            Not Scored\n",
       "4            Not Scored\n",
       "              ...      \n",
       "112387       Not Scored\n",
       "112388       Not Scored\n",
       "112389    Very Low Risk\n",
       "112390    Very Low Risk\n",
       "112391       Not Scored\n",
       "Name: risk, Length: 112392, dtype: object"
      ]
     },
     "execution_count": 29,
     "metadata": {},
     "output_type": "execute_result"
    }
   ],
   "source": [
    "test_df['risk']"
   ]
  },
  {
   "cell_type": "code",
   "execution_count": 30,
   "id": "3d971f47",
   "metadata": {},
   "outputs": [
    {
     "data": {
      "text/plain": [
       "0            Not Scored\n",
       "1           Medium Risk\n",
       "2            Not Scored\n",
       "3             High Risk\n",
       "4            Not Scored\n",
       "              ...      \n",
       "233149    Very Low Risk\n",
       "233150    Very Low Risk\n",
       "233151       Not Scored\n",
       "233152       Not Scored\n",
       "233153       Not Scored\n",
       "Name: risk, Length: 233154, dtype: object"
      ]
     },
     "execution_count": 30,
     "metadata": {},
     "output_type": "execute_result"
    }
   ],
   "source": [
    "train_df['risk']"
   ]
  },
  {
   "cell_type": "code",
   "execution_count": 31,
   "id": "2ee912ff",
   "metadata": {},
   "outputs": [],
   "source": [
    "train_df.drop('PERFORM_CNS.SCORE.DESCRIPTION',axis=1,inplace=True)\n",
    "test_df.drop('PERFORM_CNS.SCORE.DESCRIPTION',axis=1,inplace=True)"
   ]
  },
  {
   "cell_type": "code",
   "execution_count": 32,
   "id": "ab3ec686",
   "metadata": {},
   "outputs": [],
   "source": [
    "risk_map = {'Not Scored':-1, \n",
    "            'Very Low Risk':4,\n",
    "            'Low Risk':3,\n",
    "            'Medium Risk':2, \n",
    "            'High Risk':1,\n",
    "            'Very High Risk':0}\n",
    "\n",
    "train_df['risk'] = train_df['risk'].map(risk_map)\n",
    "test_df['risk'] = test_df['risk'].map(risk_map)"
   ]
  },
  {
   "cell_type": "markdown",
   "id": "abb461d8",
   "metadata": {},
   "source": [
    "## Average Account Age and Credit History Length"
   ]
  },
  {
   "cell_type": "code",
   "execution_count": 33,
   "id": "feed6314",
   "metadata": {},
   "outputs": [],
   "source": [
    "def duration(dur):\n",
    "    yrs = int(dur.split(' ')[0].replace('yrs',''))\n",
    "    mon = int(dur.split(' ')[1].replace('mon',''))\n",
    "    return yrs*12+mon"
   ]
  },
  {
   "cell_type": "code",
   "execution_count": 34,
   "id": "45eea484",
   "metadata": {},
   "outputs": [],
   "source": [
    "train_df['AVERAGE.ACCT.AGE'] = train_df['AVERAGE.ACCT.AGE'].apply(duration)\n",
    "train_df['CREDIT.HISTORY.LENGTH'] = train_df['CREDIT.HISTORY.LENGTH'].apply(duration)"
   ]
  },
  {
   "cell_type": "code",
   "execution_count": 35,
   "id": "f103e88b",
   "metadata": {},
   "outputs": [],
   "source": [
    "test_df['AVERAGE.ACCT.AGE'] = test_df['AVERAGE.ACCT.AGE'].apply(duration)\n",
    "test_df['CREDIT.HISTORY.LENGTH'] = test_df['CREDIT.HISTORY.LENGTH'].apply(duration)"
   ]
  },
  {
   "cell_type": "markdown",
   "id": "bf25c53d",
   "metadata": {},
   "source": [
    "## Feature importances using SelectKBest algorithm using chi2"
   ]
  },
  {
   "cell_type": "code",
   "execution_count": 36,
   "id": "3ee0a7a9",
   "metadata": {},
   "outputs": [],
   "source": [
    "df1 = train_df[['self_employed','Aadhar_flag','PAN_flag','VoterID_flag','Driving_flag',\n",
    "         'Passport_flag', 'State_ID', 'manufacturer_id']]"
   ]
  },
  {
   "cell_type": "code",
   "execution_count": 37,
   "id": "0be97d49",
   "metadata": {},
   "outputs": [
    {
     "data": {
      "image/png": "[encoded data removed]",
      "text/plain": [
       "<Figure size 504x360 with 1 Axes>"
      ]
     },
     "metadata": {
      "needs_background": "light"
     },
     "output_type": "display_data"
    }
   ],
   "source": [
    "from sklearn.feature_selection import SelectKBest,chi2\n",
    "\n",
    "n = SelectKBest(score_func = chi2, k = 'all')\n",
    "catcols = n.fit(df1, train_df['loan_default'])\n",
    "plt.figure(figsize = (7,5))\n",
    "sns.barplot(x = catcols.scores_, y = df1.columns)\n",
    "plt.title('Best Categorical Features')\n",
    "plt.show()"
   ]
  },
  {
   "cell_type": "markdown",
   "id": "892d1d9b",
   "metadata": {},
   "source": [
    "## Feature importances using Extra Trees Classifier"
   ]
  },
  {
   "cell_type": "code",
   "execution_count": 38,
   "id": "1c72bdfe",
   "metadata": {},
   "outputs": [
    {
     "data": {
      "text/plain": [
       "ExtraTreesClassifier()"
      ]
     },
     "execution_count": 38,
     "metadata": {},
     "output_type": "execute_result"
    }
   ],
   "source": [
    "from sklearn.ensemble import ExtraTreesClassifier\n",
    "\n",
    "model = ExtraTreesClassifier()\n",
    "model.fit(df1, train_df['loan_default'])"
   ]
  },
  {
   "cell_type": "code",
   "execution_count": 39,
   "id": "8011385b",
   "metadata": {},
   "outputs": [
    {
     "data": {
      "image/png": "[encoded data removed]",
      "text/plain": [
       "<Figure size 432x288 with 1 Axes>"
      ]
     },
     "metadata": {
      "needs_background": "light"
     },
     "output_type": "display_data"
    }
   ],
   "source": [
    "features_rank = pd.Series(model.feature_importances_, index=df1.columns)\n",
    "features_rank.nlargest(8).plot(kind='barh')\n",
    "plt.show()"
   ]
  },
  {
   "cell_type": "code",
   "execution_count": 40,
   "id": "35783409",
   "metadata": {},
   "outputs": [],
   "source": [
    "# Dropping unncessary features based on the above analysis\n",
    "\n",
    "train_df.drop(['PAN_flag','Driving_flag','Passport_flag'],axis=1,inplace=True)\n",
    "test_df.drop(['PAN_flag','Driving_flag','Passport_flag'],axis=1,inplace=True)"
   ]
  },
  {
   "cell_type": "markdown",
   "id": "1faa77cd",
   "metadata": {},
   "source": [
    "## Delinquent Accounts in last six months"
   ]
  },
  {
   "cell_type": "code",
   "execution_count": 41,
   "id": "1703a4d3",
   "metadata": {},
   "outputs": [
    {
     "data": {
      "text/html": [
       "<div>\n",
       "<style scoped>\n",
       "    .dataframe tbody tr th:only-of-type {\n",
       "        vertical-align: middle;\n",
       "    }\n",
       "\n",
       "    .dataframe tbody tr th {\n",
       "        vertical-align: top;\n",
       "    }\n",
       "\n",
       "    .dataframe thead th {\n",
       "        text-align: right;\n",
       "    }\n",
       "</style>\n",
       "<table border=\"1\" class=\"dataframe\">\n",
       "  <thead>\n",
       "    <tr style=\"text-align: right;\">\n",
       "      <th></th>\n",
       "      <th>counts</th>\n",
       "      <th>percent_of_data</th>\n",
       "    </tr>\n",
       "  </thead>\n",
       "  <tbody>\n",
       "    <tr>\n",
       "      <th>0</th>\n",
       "      <td>214959</td>\n",
       "      <td>92.196145</td>\n",
       "    </tr>\n",
       "    <tr>\n",
       "      <th>1</th>\n",
       "      <td>14941</td>\n",
       "      <td>6.408211</td>\n",
       "    </tr>\n",
       "    <tr>\n",
       "      <th>2</th>\n",
       "      <td>2470</td>\n",
       "      <td>1.059386</td>\n",
       "    </tr>\n",
       "    <tr>\n",
       "      <th>3</th>\n",
       "      <td>537</td>\n",
       "      <td>0.230320</td>\n",
       "    </tr>\n",
       "    <tr>\n",
       "      <th>4</th>\n",
       "      <td>138</td>\n",
       "      <td>0.059188</td>\n",
       "    </tr>\n",
       "    <tr>\n",
       "      <th>5</th>\n",
       "      <td>58</td>\n",
       "      <td>0.024876</td>\n",
       "    </tr>\n",
       "    <tr>\n",
       "      <th>6</th>\n",
       "      <td>20</td>\n",
       "      <td>0.008578</td>\n",
       "    </tr>\n",
       "    <tr>\n",
       "      <th>7</th>\n",
       "      <td>13</td>\n",
       "      <td>0.005576</td>\n",
       "    </tr>\n",
       "    <tr>\n",
       "      <th>8</th>\n",
       "      <td>7</td>\n",
       "      <td>0.003002</td>\n",
       "    </tr>\n",
       "    <tr>\n",
       "      <th>12</th>\n",
       "      <td>3</td>\n",
       "      <td>0.001287</td>\n",
       "    </tr>\n",
       "    <tr>\n",
       "      <th>11</th>\n",
       "      <td>3</td>\n",
       "      <td>0.001287</td>\n",
       "    </tr>\n",
       "    <tr>\n",
       "      <th>9</th>\n",
       "      <td>2</td>\n",
       "      <td>0.000858</td>\n",
       "    </tr>\n",
       "    <tr>\n",
       "      <th>10</th>\n",
       "      <td>2</td>\n",
       "      <td>0.000858</td>\n",
       "    </tr>\n",
       "    <tr>\n",
       "      <th>20</th>\n",
       "      <td>1</td>\n",
       "      <td>0.000429</td>\n",
       "    </tr>\n",
       "  </tbody>\n",
       "</table>\n",
       "</div>"
      ],
      "text/plain": [
       "    counts  percent_of_data\n",
       "0   214959        92.196145\n",
       "1    14941         6.408211\n",
       "2     2470         1.059386\n",
       "3      537         0.230320\n",
       "4      138         0.059188\n",
       "5       58         0.024876\n",
       "6       20         0.008578\n",
       "7       13         0.005576\n",
       "8        7         0.003002\n",
       "12       3         0.001287\n",
       "11       3         0.001287\n",
       "9        2         0.000858\n",
       "10       2         0.000858\n",
       "20       1         0.000429"
      ]
     },
     "execution_count": 41,
     "metadata": {},
     "output_type": "execute_result"
    }
   ],
   "source": [
    "counts = train_df['DELINQUENT.ACCTS.IN.LAST.SIX.MONTHS'].value_counts()\n",
    "percentage = train_df['DELINQUENT.ACCTS.IN.LAST.SIX.MONTHS'].value_counts(normalize=True)*100\n",
    "\n",
    "pd.DataFrame({'counts':counts,'percent_of_data':percentage})"
   ]
  },
  {
   "cell_type": "markdown",
   "id": "b5bd42b9",
   "metadata": {},
   "source": [
    "We can see that 92% of customers have not defaulted loans in last six months. 8% of customers have deafulted loans for >= 1 time"
   ]
  },
  {
   "cell_type": "markdown",
   "id": "d7229950",
   "metadata": {},
   "source": [
    "## No of Inquiries"
   ]
  },
  {
   "cell_type": "code",
   "execution_count": 42,
   "id": "2fd5fd11",
   "metadata": {},
   "outputs": [
    {
     "data": {
      "text/html": [
       "<div>\n",
       "<style scoped>\n",
       "    .dataframe tbody tr th:only-of-type {\n",
       "        vertical-align: middle;\n",
       "    }\n",
       "\n",
       "    .dataframe tbody tr th {\n",
       "        vertical-align: top;\n",
       "    }\n",
       "\n",
       "    .dataframe thead th {\n",
       "        text-align: right;\n",
       "    }\n",
       "</style>\n",
       "<table border=\"1\" class=\"dataframe\">\n",
       "  <thead>\n",
       "    <tr style=\"text-align: right;\">\n",
       "      <th></th>\n",
       "      <th>counts</th>\n",
       "      <th>percent_of_data</th>\n",
       "    </tr>\n",
       "  </thead>\n",
       "  <tbody>\n",
       "    <tr>\n",
       "      <th>0</th>\n",
       "      <td>201961</td>\n",
       "      <td>86.621289</td>\n",
       "    </tr>\n",
       "    <tr>\n",
       "      <th>1</th>\n",
       "      <td>22285</td>\n",
       "      <td>9.558060</td>\n",
       "    </tr>\n",
       "    <tr>\n",
       "      <th>2</th>\n",
       "      <td>5409</td>\n",
       "      <td>2.319926</td>\n",
       "    </tr>\n",
       "    <tr>\n",
       "      <th>3</th>\n",
       "      <td>1767</td>\n",
       "      <td>0.757868</td>\n",
       "    </tr>\n",
       "    <tr>\n",
       "      <th>4</th>\n",
       "      <td>760</td>\n",
       "      <td>0.325965</td>\n",
       "    </tr>\n",
       "    <tr>\n",
       "      <th>5</th>\n",
       "      <td>343</td>\n",
       "      <td>0.147113</td>\n",
       "    </tr>\n",
       "    <tr>\n",
       "      <th>6</th>\n",
       "      <td>239</td>\n",
       "      <td>0.102507</td>\n",
       "    </tr>\n",
       "    <tr>\n",
       "      <th>7</th>\n",
       "      <td>135</td>\n",
       "      <td>0.057902</td>\n",
       "    </tr>\n",
       "    <tr>\n",
       "      <th>8</th>\n",
       "      <td>105</td>\n",
       "      <td>0.045035</td>\n",
       "    </tr>\n",
       "    <tr>\n",
       "      <th>9</th>\n",
       "      <td>44</td>\n",
       "      <td>0.018872</td>\n",
       "    </tr>\n",
       "    <tr>\n",
       "      <th>10</th>\n",
       "      <td>34</td>\n",
       "      <td>0.014583</td>\n",
       "    </tr>\n",
       "    <tr>\n",
       "      <th>11</th>\n",
       "      <td>15</td>\n",
       "      <td>0.006434</td>\n",
       "    </tr>\n",
       "    <tr>\n",
       "      <th>12</th>\n",
       "      <td>14</td>\n",
       "      <td>0.006005</td>\n",
       "    </tr>\n",
       "    <tr>\n",
       "      <th>14</th>\n",
       "      <td>8</td>\n",
       "      <td>0.003431</td>\n",
       "    </tr>\n",
       "    <tr>\n",
       "      <th>15</th>\n",
       "      <td>7</td>\n",
       "      <td>0.003002</td>\n",
       "    </tr>\n",
       "    <tr>\n",
       "      <th>13</th>\n",
       "      <td>6</td>\n",
       "      <td>0.002573</td>\n",
       "    </tr>\n",
       "    <tr>\n",
       "      <th>19</th>\n",
       "      <td>6</td>\n",
       "      <td>0.002573</td>\n",
       "    </tr>\n",
       "    <tr>\n",
       "      <th>17</th>\n",
       "      <td>4</td>\n",
       "      <td>0.001716</td>\n",
       "    </tr>\n",
       "    <tr>\n",
       "      <th>18</th>\n",
       "      <td>4</td>\n",
       "      <td>0.001716</td>\n",
       "    </tr>\n",
       "    <tr>\n",
       "      <th>16</th>\n",
       "      <td>3</td>\n",
       "      <td>0.001287</td>\n",
       "    </tr>\n",
       "    <tr>\n",
       "      <th>20</th>\n",
       "      <td>1</td>\n",
       "      <td>0.000429</td>\n",
       "    </tr>\n",
       "    <tr>\n",
       "      <th>23</th>\n",
       "      <td>1</td>\n",
       "      <td>0.000429</td>\n",
       "    </tr>\n",
       "    <tr>\n",
       "      <th>28</th>\n",
       "      <td>1</td>\n",
       "      <td>0.000429</td>\n",
       "    </tr>\n",
       "    <tr>\n",
       "      <th>22</th>\n",
       "      <td>1</td>\n",
       "      <td>0.000429</td>\n",
       "    </tr>\n",
       "    <tr>\n",
       "      <th>36</th>\n",
       "      <td>1</td>\n",
       "      <td>0.000429</td>\n",
       "    </tr>\n",
       "  </tbody>\n",
       "</table>\n",
       "</div>"
      ],
      "text/plain": [
       "    counts  percent_of_data\n",
       "0   201961        86.621289\n",
       "1    22285         9.558060\n",
       "2     5409         2.319926\n",
       "3     1767         0.757868\n",
       "4      760         0.325965\n",
       "5      343         0.147113\n",
       "6      239         0.102507\n",
       "7      135         0.057902\n",
       "8      105         0.045035\n",
       "9       44         0.018872\n",
       "10      34         0.014583\n",
       "11      15         0.006434\n",
       "12      14         0.006005\n",
       "14       8         0.003431\n",
       "15       7         0.003002\n",
       "13       6         0.002573\n",
       "19       6         0.002573\n",
       "17       4         0.001716\n",
       "18       4         0.001716\n",
       "16       3         0.001287\n",
       "20       1         0.000429\n",
       "23       1         0.000429\n",
       "28       1         0.000429\n",
       "22       1         0.000429\n",
       "36       1         0.000429"
      ]
     },
     "execution_count": 42,
     "metadata": {},
     "output_type": "execute_result"
    }
   ],
   "source": [
    "counts = train_df['NO.OF_INQUIRIES'].value_counts()\n",
    "percent = train_df['NO.OF_INQUIRIES'].value_counts(normalize=True)*100\n",
    "\n",
    "pd.DataFrame({'counts':counts,'percent_of_data':percent})"
   ]
  },
  {
   "cell_type": "markdown",
   "id": "21bb298f",
   "metadata": {},
   "source": [
    "Most of the customers have not made any enquiries regarding loans\n",
    "\n",
    "The ID variable dilemma here we need to look out for ID related variables such as manufacturer id employee id etc. how do we need whether we should select these variables? lets look from a financial standpoint\n",
    "\n",
    "1. UniqueID : this is purely nominal and needs to be dropped\n",
    "\n",
    "2. supplier_id : needs to be dropped beacuse it is nominal\n",
    "\n",
    "3. Current_pincode_ID : denotes location and has nothing to do with probablity of default or default prediction will be dropped\n",
    "\n",
    "4. Branch.id : This is purely nominal and has no order at all so we can drop this variable\n",
    "\n",
    "5. State_ID - Donotes the states registration of the vehicle (like MH for maharashtra , KA for karnataka) this may matter because prices of vehicels vary state to state\n",
    "\n",
    "6. Employee_code_ID : purely nominal - dropped\n",
    "\n",
    "7. VoterID_flag - certainly will make an impact... should be there in our analysis\n",
    "\n",
    "8. manufacturer_id : this should be considered since prices vary manufacturer to manufacturer"
   ]
  },
  {
   "cell_type": "code",
   "execution_count": 43,
   "id": "b7bb7a0b",
   "metadata": {},
   "outputs": [],
   "source": [
    "ids_to_drop = ['UniqueID','supplier_id','Current_pincode_ID','branch_id','Employee_code_ID']\n",
    "train_df=train_df.drop(columns=ids_to_drop)\n",
    "test_df=test_df.drop(columns=ids_to_drop)"
   ]
  },
  {
   "cell_type": "code",
   "execution_count": 44,
   "id": "2a77fc29",
   "metadata": {},
   "outputs": [
    {
     "data": {
      "text/plain": [
       "Index(['disbursed_amount', 'asset_cost', 'ltv', 'manufacturer_id', 'State_ID',\n",
       "       'Aadhar_flag', 'VoterID_flag', 'PERFORM_CNS.SCORE', 'PRI.NO.OF.ACCTS',\n",
       "       'PRI.ACTIVE.ACCTS', 'PRI.OVERDUE.ACCTS', 'PRI.CURRENT.BALANCE',\n",
       "       'PRI.SANCTIONED.AMOUNT', 'PRI.DISBURSED.AMOUNT', 'SEC.NO.OF.ACCTS',\n",
       "       'SEC.ACTIVE.ACCTS', 'SEC.OVERDUE.ACCTS', 'SEC.CURRENT.BALANCE',\n",
       "       'SEC.SANCTIONED.AMOUNT', 'SEC.DISBURSED.AMOUNT', 'PRIMARY.INSTAL.AMT',\n",
       "       'SEC.INSTAL.AMT', 'NEW.ACCTS.IN.LAST.SIX.MONTHS',\n",
       "       'DELINQUENT.ACCTS.IN.LAST.SIX.MONTHS', 'AVERAGE.ACCT.AGE',\n",
       "       'CREDIT.HISTORY.LENGTH', 'NO.OF_INQUIRIES', 'loan_default',\n",
       "       'self_employed', 'Age', 'risk'],\n",
       "      dtype='object')"
      ]
     },
     "execution_count": 44,
     "metadata": {},
     "output_type": "execute_result"
    }
   ],
   "source": [
    "train_df.columns"
   ]
  },
  {
   "cell_type": "code",
   "execution_count": 45,
   "id": "b9518968",
   "metadata": {},
   "outputs": [
    {
     "data": {
      "text/html": [
       "<div>\n",
       "<style scoped>\n",
       "    .dataframe tbody tr th:only-of-type {\n",
       "        vertical-align: middle;\n",
       "    }\n",
       "\n",
       "    .dataframe tbody tr th {\n",
       "        vertical-align: top;\n",
       "    }\n",
       "\n",
       "    .dataframe thead th {\n",
       "        text-align: right;\n",
       "    }\n",
       "</style>\n",
       "<table border=\"1\" class=\"dataframe\">\n",
       "  <thead>\n",
       "    <tr style=\"text-align: right;\">\n",
       "      <th></th>\n",
       "      <th>disbursed_amount</th>\n",
       "      <th>asset_cost</th>\n",
       "      <th>ltv</th>\n",
       "      <th>manufacturer_id</th>\n",
       "      <th>State_ID</th>\n",
       "      <th>Aadhar_flag</th>\n",
       "      <th>VoterID_flag</th>\n",
       "      <th>PERFORM_CNS.SCORE</th>\n",
       "      <th>PRI.NO.OF.ACCTS</th>\n",
       "      <th>PRI.ACTIVE.ACCTS</th>\n",
       "      <th>...</th>\n",
       "      <th>PRIMARY.INSTAL.AMT</th>\n",
       "      <th>SEC.INSTAL.AMT</th>\n",
       "      <th>NEW.ACCTS.IN.LAST.SIX.MONTHS</th>\n",
       "      <th>DELINQUENT.ACCTS.IN.LAST.SIX.MONTHS</th>\n",
       "      <th>AVERAGE.ACCT.AGE</th>\n",
       "      <th>CREDIT.HISTORY.LENGTH</th>\n",
       "      <th>NO.OF_INQUIRIES</th>\n",
       "      <th>self_employed</th>\n",
       "      <th>Age</th>\n",
       "      <th>risk</th>\n",
       "    </tr>\n",
       "  </thead>\n",
       "  <tbody>\n",
       "    <tr>\n",
       "      <th>0</th>\n",
       "      <td>53478</td>\n",
       "      <td>63558</td>\n",
       "      <td>86.54</td>\n",
       "      <td>45</td>\n",
       "      <td>6</td>\n",
       "      <td>1</td>\n",
       "      <td>0</td>\n",
       "      <td>0</td>\n",
       "      <td>0</td>\n",
       "      <td>0</td>\n",
       "      <td>...</td>\n",
       "      <td>0</td>\n",
       "      <td>0</td>\n",
       "      <td>0</td>\n",
       "      <td>0</td>\n",
       "      <td>0</td>\n",
       "      <td>0</td>\n",
       "      <td>0</td>\n",
       "      <td>0</td>\n",
       "      <td>44</td>\n",
       "      <td>-1</td>\n",
       "    </tr>\n",
       "    <tr>\n",
       "      <th>1</th>\n",
       "      <td>55513</td>\n",
       "      <td>63163</td>\n",
       "      <td>89.45</td>\n",
       "      <td>45</td>\n",
       "      <td>6</td>\n",
       "      <td>1</td>\n",
       "      <td>0</td>\n",
       "      <td>749</td>\n",
       "      <td>2</td>\n",
       "      <td>1</td>\n",
       "      <td>...</td>\n",
       "      <td>5605</td>\n",
       "      <td>0</td>\n",
       "      <td>1</td>\n",
       "      <td>0</td>\n",
       "      <td>8</td>\n",
       "      <td>12</td>\n",
       "      <td>1</td>\n",
       "      <td>1</td>\n",
       "      <td>33</td>\n",
       "      <td>4</td>\n",
       "    </tr>\n",
       "    <tr>\n",
       "      <th>2</th>\n",
       "      <td>65282</td>\n",
       "      <td>84320</td>\n",
       "      <td>79.93</td>\n",
       "      <td>86</td>\n",
       "      <td>4</td>\n",
       "      <td>1</td>\n",
       "      <td>0</td>\n",
       "      <td>0</td>\n",
       "      <td>0</td>\n",
       "      <td>0</td>\n",
       "      <td>...</td>\n",
       "      <td>0</td>\n",
       "      <td>0</td>\n",
       "      <td>0</td>\n",
       "      <td>0</td>\n",
       "      <td>0</td>\n",
       "      <td>0</td>\n",
       "      <td>0</td>\n",
       "      <td>0</td>\n",
       "      <td>23</td>\n",
       "      <td>-1</td>\n",
       "    </tr>\n",
       "    <tr>\n",
       "      <th>3</th>\n",
       "      <td>46905</td>\n",
       "      <td>63896</td>\n",
       "      <td>76.58</td>\n",
       "      <td>45</td>\n",
       "      <td>4</td>\n",
       "      <td>1</td>\n",
       "      <td>0</td>\n",
       "      <td>14</td>\n",
       "      <td>1</td>\n",
       "      <td>1</td>\n",
       "      <td>...</td>\n",
       "      <td>0</td>\n",
       "      <td>0</td>\n",
       "      <td>0</td>\n",
       "      <td>0</td>\n",
       "      <td>29</td>\n",
       "      <td>29</td>\n",
       "      <td>0</td>\n",
       "      <td>1</td>\n",
       "      <td>45</td>\n",
       "      <td>-1</td>\n",
       "    </tr>\n",
       "    <tr>\n",
       "      <th>4</th>\n",
       "      <td>51428</td>\n",
       "      <td>63896</td>\n",
       "      <td>86.08</td>\n",
       "      <td>45</td>\n",
       "      <td>4</td>\n",
       "      <td>1</td>\n",
       "      <td>0</td>\n",
       "      <td>0</td>\n",
       "      <td>0</td>\n",
       "      <td>0</td>\n",
       "      <td>...</td>\n",
       "      <td>0</td>\n",
       "      <td>0</td>\n",
       "      <td>0</td>\n",
       "      <td>0</td>\n",
       "      <td>0</td>\n",
       "      <td>0</td>\n",
       "      <td>0</td>\n",
       "      <td>0</td>\n",
       "      <td>46</td>\n",
       "      <td>-1</td>\n",
       "    </tr>\n",
       "    <tr>\n",
       "      <th>...</th>\n",
       "      <td>...</td>\n",
       "      <td>...</td>\n",
       "      <td>...</td>\n",
       "      <td>...</td>\n",
       "      <td>...</td>\n",
       "      <td>...</td>\n",
       "      <td>...</td>\n",
       "      <td>...</td>\n",
       "      <td>...</td>\n",
       "      <td>...</td>\n",
       "      <td>...</td>\n",
       "      <td>...</td>\n",
       "      <td>...</td>\n",
       "      <td>...</td>\n",
       "      <td>...</td>\n",
       "      <td>...</td>\n",
       "      <td>...</td>\n",
       "      <td>...</td>\n",
       "      <td>...</td>\n",
       "      <td>...</td>\n",
       "      <td>...</td>\n",
       "    </tr>\n",
       "    <tr>\n",
       "      <th>112387</th>\n",
       "      <td>44875</td>\n",
       "      <td>72509</td>\n",
       "      <td>67.58</td>\n",
       "      <td>86</td>\n",
       "      <td>4</td>\n",
       "      <td>1</td>\n",
       "      <td>0</td>\n",
       "      <td>0</td>\n",
       "      <td>0</td>\n",
       "      <td>0</td>\n",
       "      <td>...</td>\n",
       "      <td>0</td>\n",
       "      <td>0</td>\n",
       "      <td>0</td>\n",
       "      <td>0</td>\n",
       "      <td>0</td>\n",
       "      <td>0</td>\n",
       "      <td>0</td>\n",
       "      <td>1</td>\n",
       "      <td>26</td>\n",
       "      <td>-1</td>\n",
       "    </tr>\n",
       "    <tr>\n",
       "      <th>112388</th>\n",
       "      <td>53549</td>\n",
       "      <td>72509</td>\n",
       "      <td>78.61</td>\n",
       "      <td>86</td>\n",
       "      <td>4</td>\n",
       "      <td>1</td>\n",
       "      <td>0</td>\n",
       "      <td>0</td>\n",
       "      <td>0</td>\n",
       "      <td>0</td>\n",
       "      <td>...</td>\n",
       "      <td>0</td>\n",
       "      <td>0</td>\n",
       "      <td>0</td>\n",
       "      <td>0</td>\n",
       "      <td>0</td>\n",
       "      <td>0</td>\n",
       "      <td>0</td>\n",
       "      <td>1</td>\n",
       "      <td>34</td>\n",
       "      <td>-1</td>\n",
       "    </tr>\n",
       "    <tr>\n",
       "      <th>112389</th>\n",
       "      <td>55243</td>\n",
       "      <td>72509</td>\n",
       "      <td>81.37</td>\n",
       "      <td>86</td>\n",
       "      <td>4</td>\n",
       "      <td>1</td>\n",
       "      <td>0</td>\n",
       "      <td>785</td>\n",
       "      <td>2</td>\n",
       "      <td>0</td>\n",
       "      <td>...</td>\n",
       "      <td>0</td>\n",
       "      <td>0</td>\n",
       "      <td>0</td>\n",
       "      <td>0</td>\n",
       "      <td>58</td>\n",
       "      <td>113</td>\n",
       "      <td>0</td>\n",
       "      <td>1</td>\n",
       "      <td>32</td>\n",
       "      <td>4</td>\n",
       "    </tr>\n",
       "    <tr>\n",
       "      <th>112390</th>\n",
       "      <td>55243</td>\n",
       "      <td>72509</td>\n",
       "      <td>81.37</td>\n",
       "      <td>86</td>\n",
       "      <td>4</td>\n",
       "      <td>1</td>\n",
       "      <td>0</td>\n",
       "      <td>714</td>\n",
       "      <td>1</td>\n",
       "      <td>1</td>\n",
       "      <td>...</td>\n",
       "      <td>0</td>\n",
       "      <td>0</td>\n",
       "      <td>1</td>\n",
       "      <td>1</td>\n",
       "      <td>3</td>\n",
       "      <td>3</td>\n",
       "      <td>0</td>\n",
       "      <td>1</td>\n",
       "      <td>45</td>\n",
       "      <td>4</td>\n",
       "    </tr>\n",
       "    <tr>\n",
       "      <th>112391</th>\n",
       "      <td>40274</td>\n",
       "      <td>72509</td>\n",
       "      <td>60.68</td>\n",
       "      <td>86</td>\n",
       "      <td>4</td>\n",
       "      <td>1</td>\n",
       "      <td>0</td>\n",
       "      <td>0</td>\n",
       "      <td>0</td>\n",
       "      <td>0</td>\n",
       "      <td>...</td>\n",
       "      <td>0</td>\n",
       "      <td>0</td>\n",
       "      <td>0</td>\n",
       "      <td>0</td>\n",
       "      <td>0</td>\n",
       "      <td>0</td>\n",
       "      <td>0</td>\n",
       "      <td>1</td>\n",
       "      <td>44</td>\n",
       "      <td>-1</td>\n",
       "    </tr>\n",
       "  </tbody>\n",
       "</table>\n",
       "<p>112392 rows × 30 columns</p>\n",
       "</div>"
      ],
      "text/plain": [
       "        disbursed_amount  asset_cost    ltv  manufacturer_id  State_ID  \\\n",
       "0                  53478       63558  86.54               45         6   \n",
       "1                  55513       63163  89.45               45         6   \n",
       "2                  65282       84320  79.93               86         4   \n",
       "3                  46905       63896  76.58               45         4   \n",
       "4                  51428       63896  86.08               45         4   \n",
       "...                  ...         ...    ...              ...       ...   \n",
       "112387             44875       72509  67.58               86         4   \n",
       "112388             53549       72509  78.61               86         4   \n",
       "112389             55243       72509  81.37               86         4   \n",
       "112390             55243       72509  81.37               86         4   \n",
       "112391             40274       72509  60.68               86         4   \n",
       "\n",
       "        Aadhar_flag  VoterID_flag  PERFORM_CNS.SCORE  PRI.NO.OF.ACCTS  \\\n",
       "0                 1             0                  0                0   \n",
       "1                 1             0                749                2   \n",
       "2                 1             0                  0                0   \n",
       "3                 1             0                 14                1   \n",
       "4                 1             0                  0                0   \n",
       "...             ...           ...                ...              ...   \n",
       "112387            1             0                  0                0   \n",
       "112388            1             0                  0                0   \n",
       "112389            1             0                785                2   \n",
       "112390            1             0                714                1   \n",
       "112391            1             0                  0                0   \n",
       "\n",
       "        PRI.ACTIVE.ACCTS  ...  PRIMARY.INSTAL.AMT  SEC.INSTAL.AMT  \\\n",
       "0                      0  ...                   0               0   \n",
       "1                      1  ...                5605               0   \n",
       "2                      0  ...                   0               0   \n",
       "3                      1  ...                   0               0   \n",
       "4                      0  ...                   0               0   \n",
       "...                  ...  ...                 ...             ...   \n",
       "112387                 0  ...                   0               0   \n",
       "112388                 0  ...                   0               0   \n",
       "112389                 0  ...                   0               0   \n",
       "112390                 1  ...                   0               0   \n",
       "112391                 0  ...                   0               0   \n",
       "\n",
       "        NEW.ACCTS.IN.LAST.SIX.MONTHS  DELINQUENT.ACCTS.IN.LAST.SIX.MONTHS  \\\n",
       "0                                  0                                    0   \n",
       "1                                  1                                    0   \n",
       "2                                  0                                    0   \n",
       "3                                  0                                    0   \n",
       "4                                  0                                    0   \n",
       "...                              ...                                  ...   \n",
       "112387                             0                                    0   \n",
       "112388                             0                                    0   \n",
       "112389                             0                                    0   \n",
       "112390                             1                                    1   \n",
       "112391                             0                                    0   \n",
       "\n",
       "        AVERAGE.ACCT.AGE  CREDIT.HISTORY.LENGTH  NO.OF_INQUIRIES  \\\n",
       "0                      0                      0                0   \n",
       "1                      8                     12                1   \n",
       "2                      0                      0                0   \n",
       "3                     29                     29                0   \n",
       "4                      0                      0                0   \n",
       "...                  ...                    ...              ...   \n",
       "112387                 0                      0                0   \n",
       "112388                 0                      0                0   \n",
       "112389                58                    113                0   \n",
       "112390                 3                      3                0   \n",
       "112391                 0                      0                0   \n",
       "\n",
       "        self_employed  Age  risk  \n",
       "0                   0   44    -1  \n",
       "1                   1   33     4  \n",
       "2                   0   23    -1  \n",
       "3                   1   45    -1  \n",
       "4                   0   46    -1  \n",
       "...               ...  ...   ...  \n",
       "112387              1   26    -1  \n",
       "112388              1   34    -1  \n",
       "112389              1   32     4  \n",
       "112390              1   45     4  \n",
       "112391              1   44    -1  \n",
       "\n",
       "[112392 rows x 30 columns]"
      ]
     },
     "execution_count": 45,
     "metadata": {},
     "output_type": "execute_result"
    }
   ],
   "source": [
    "test_df"
   ]
  },
  {
   "cell_type": "markdown",
   "id": "4662bd67",
   "metadata": {},
   "source": [
    "## Numerical Features Analysis"
   ]
  },
  {
   "cell_type": "code",
   "execution_count": 46,
   "id": "d7f5ff73",
   "metadata": {},
   "outputs": [],
   "source": [
    "df2 = train_df[['disbursed_amount', 'asset_cost', 'ltv', 'manufacturer_id', 'State_ID',\n",
    "       'PERFORM_CNS.SCORE', 'PRI.NO.OF.ACCTS', 'PRI.ACTIVE.ACCTS', 'PRI.OVERDUE.ACCTS', \n",
    "       'PRI.CURRENT.BALANCE', 'PRI.SANCTIONED.AMOUNT', 'PRI.DISBURSED.AMOUNT', 'SEC.NO.OF.ACCTS',\n",
    "       'SEC.ACTIVE.ACCTS', 'SEC.OVERDUE.ACCTS', 'SEC.CURRENT.BALANCE', 'SEC.SANCTIONED.AMOUNT', \n",
    "       'SEC.DISBURSED.AMOUNT', 'PRIMARY.INSTAL.AMT', 'SEC.INSTAL.AMT', 'NEW.ACCTS.IN.LAST.SIX.MONTHS',\n",
    "       'DELINQUENT.ACCTS.IN.LAST.SIX.MONTHS', 'AVERAGE.ACCT.AGE', 'CREDIT.HISTORY.LENGTH',\n",
    "       'NO.OF_INQUIRIES', 'Age', 'risk']]"
   ]
  },
  {
   "cell_type": "code",
   "execution_count": 47,
   "id": "506263ef",
   "metadata": {},
   "outputs": [
    {
     "data": {
      "text/plain": [
       "ExtraTreesClassifier()"
      ]
     },
     "execution_count": 47,
     "metadata": {},
     "output_type": "execute_result"
    }
   ],
   "source": [
    "model_2 = ExtraTreesClassifier()\n",
    "model_2.fit(df2, train_df['loan_default'])"
   ]
  },
  {
   "cell_type": "code",
   "execution_count": 48,
   "id": "5cde663d",
   "metadata": {},
   "outputs": [
    {
     "data": {
      "text/html": [
       "<div>\n",
       "<style scoped>\n",
       "    .dataframe tbody tr th:only-of-type {\n",
       "        vertical-align: middle;\n",
       "    }\n",
       "\n",
       "    .dataframe tbody tr th {\n",
       "        vertical-align: top;\n",
       "    }\n",
       "\n",
       "    .dataframe thead th {\n",
       "        text-align: right;\n",
       "    }\n",
       "</style>\n",
       "<table border=\"1\" class=\"dataframe\">\n",
       "  <thead>\n",
       "    <tr style=\"text-align: right;\">\n",
       "      <th></th>\n",
       "      <th>Feature_Importances</th>\n",
       "    </tr>\n",
       "  </thead>\n",
       "  <tbody>\n",
       "    <tr>\n",
       "      <th>ltv</th>\n",
       "      <td>0.164416</td>\n",
       "    </tr>\n",
       "    <tr>\n",
       "      <th>asset_cost</th>\n",
       "      <td>0.155633</td>\n",
       "    </tr>\n",
       "    <tr>\n",
       "      <th>disbursed_amount</th>\n",
       "      <td>0.155630</td>\n",
       "    </tr>\n",
       "    <tr>\n",
       "      <th>Age</th>\n",
       "      <td>0.119569</td>\n",
       "    </tr>\n",
       "    <tr>\n",
       "      <th>State_ID</th>\n",
       "      <td>0.063390</td>\n",
       "    </tr>\n",
       "    <tr>\n",
       "      <th>manufacturer_id</th>\n",
       "      <td>0.031630</td>\n",
       "    </tr>\n",
       "    <tr>\n",
       "      <th>CREDIT.HISTORY.LENGTH</th>\n",
       "      <td>0.031216</td>\n",
       "    </tr>\n",
       "    <tr>\n",
       "      <th>AVERAGE.ACCT.AGE</th>\n",
       "      <td>0.030362</td>\n",
       "    </tr>\n",
       "    <tr>\n",
       "      <th>PERFORM_CNS.SCORE</th>\n",
       "      <td>0.029297</td>\n",
       "    </tr>\n",
       "    <tr>\n",
       "      <th>PRIMARY.INSTAL.AMT</th>\n",
       "      <td>0.028679</td>\n",
       "    </tr>\n",
       "    <tr>\n",
       "      <th>PRI.CURRENT.BALANCE</th>\n",
       "      <td>0.025766</td>\n",
       "    </tr>\n",
       "    <tr>\n",
       "      <th>PRI.SANCTIONED.AMOUNT</th>\n",
       "      <td>0.025222</td>\n",
       "    </tr>\n",
       "    <tr>\n",
       "      <th>PRI.DISBURSED.AMOUNT</th>\n",
       "      <td>0.025088</td>\n",
       "    </tr>\n",
       "    <tr>\n",
       "      <th>PRI.NO.OF.ACCTS</th>\n",
       "      <td>0.024212</td>\n",
       "    </tr>\n",
       "    <tr>\n",
       "      <th>NO.OF_INQUIRIES</th>\n",
       "      <td>0.020893</td>\n",
       "    </tr>\n",
       "    <tr>\n",
       "      <th>PRI.ACTIVE.ACCTS</th>\n",
       "      <td>0.017537</td>\n",
       "    </tr>\n",
       "    <tr>\n",
       "      <th>NEW.ACCTS.IN.LAST.SIX.MONTHS</th>\n",
       "      <td>0.013795</td>\n",
       "    </tr>\n",
       "    <tr>\n",
       "      <th>DELINQUENT.ACCTS.IN.LAST.SIX.MONTHS</th>\n",
       "      <td>0.008877</td>\n",
       "    </tr>\n",
       "    <tr>\n",
       "      <th>risk</th>\n",
       "      <td>0.008589</td>\n",
       "    </tr>\n",
       "    <tr>\n",
       "      <th>PRI.OVERDUE.ACCTS</th>\n",
       "      <td>0.008359</td>\n",
       "    </tr>\n",
       "    <tr>\n",
       "      <th>SEC.NO.OF.ACCTS</th>\n",
       "      <td>0.003202</td>\n",
       "    </tr>\n",
       "    <tr>\n",
       "      <th>SEC.INSTAL.AMT</th>\n",
       "      <td>0.001665</td>\n",
       "    </tr>\n",
       "    <tr>\n",
       "      <th>SEC.ACTIVE.ACCTS</th>\n",
       "      <td>0.001567</td>\n",
       "    </tr>\n",
       "    <tr>\n",
       "      <th>SEC.SANCTIONED.AMOUNT</th>\n",
       "      <td>0.001510</td>\n",
       "    </tr>\n",
       "    <tr>\n",
       "      <th>SEC.DISBURSED.AMOUNT</th>\n",
       "      <td>0.001470</td>\n",
       "    </tr>\n",
       "    <tr>\n",
       "      <th>SEC.CURRENT.BALANCE</th>\n",
       "      <td>0.001421</td>\n",
       "    </tr>\n",
       "    <tr>\n",
       "      <th>SEC.OVERDUE.ACCTS</th>\n",
       "      <td>0.001004</td>\n",
       "    </tr>\n",
       "  </tbody>\n",
       "</table>\n",
       "</div>"
      ],
      "text/plain": [
       "                                     Feature_Importances\n",
       "ltv                                             0.164416\n",
       "asset_cost                                      0.155633\n",
       "disbursed_amount                                0.155630\n",
       "Age                                             0.119569\n",
       "State_ID                                        0.063390\n",
       "manufacturer_id                                 0.031630\n",
       "CREDIT.HISTORY.LENGTH                           0.031216\n",
       "AVERAGE.ACCT.AGE                                0.030362\n",
       "PERFORM_CNS.SCORE                               0.029297\n",
       "PRIMARY.INSTAL.AMT                              0.028679\n",
       "PRI.CURRENT.BALANCE                             0.025766\n",
       "PRI.SANCTIONED.AMOUNT                           0.025222\n",
       "PRI.DISBURSED.AMOUNT                            0.025088\n",
       "PRI.NO.OF.ACCTS                                 0.024212\n",
       "NO.OF_INQUIRIES                                 0.020893\n",
       "PRI.ACTIVE.ACCTS                                0.017537\n",
       "NEW.ACCTS.IN.LAST.SIX.MONTHS                    0.013795\n",
       "DELINQUENT.ACCTS.IN.LAST.SIX.MONTHS             0.008877\n",
       "risk                                            0.008589\n",
       "PRI.OVERDUE.ACCTS                               0.008359\n",
       "SEC.NO.OF.ACCTS                                 0.003202\n",
       "SEC.INSTAL.AMT                                  0.001665\n",
       "SEC.ACTIVE.ACCTS                                0.001567\n",
       "SEC.SANCTIONED.AMOUNT                           0.001510\n",
       "SEC.DISBURSED.AMOUNT                            0.001470\n",
       "SEC.CURRENT.BALANCE                             0.001421\n",
       "SEC.OVERDUE.ACCTS                               0.001004"
      ]
     },
     "execution_count": 48,
     "metadata": {},
     "output_type": "execute_result"
    }
   ],
   "source": [
    "pd.DataFrame(model_2.feature_importances_, index = df2.columns,\n",
    "             columns = ['Feature_Importances']).sort_values(by = 'Feature_Importances',\n",
    "             ascending = False)"
   ]
  },
  {
   "cell_type": "code",
   "execution_count": 49,
   "id": "990b023c",
   "metadata": {},
   "outputs": [
    {
     "data": {
      "image/png": "[encoded data removed]",
      "text/plain": [
       "<Figure size 576x576 with 1 Axes>"
      ]
     },
     "metadata": {
      "needs_background": "light"
     },
     "output_type": "display_data"
    }
   ],
   "source": [
    "plt.figure(figsize = (8,8))\n",
    "ranked_features = pd.Series(model_2.feature_importances_, index = df2.columns)\n",
    "ranked_features.nlargest(27).plot(kind = 'barh')\n",
    "plt.show()"
   ]
  },
  {
   "cell_type": "markdown",
   "id": "18796c49",
   "metadata": {},
   "source": [
    "We cannot drop the secondary account details as they are asked by the institutions before granting loan."
   ]
  },
  {
   "cell_type": "code",
   "execution_count": 50,
   "id": "57a484e6",
   "metadata": {},
   "outputs": [
    {
     "data": {
      "image/png": "[encoded data removed]",
      "text/plain": [
       "<Figure size 864x576 with 2 Axes>"
      ]
     },
     "metadata": {
      "needs_background": "light"
     },
     "output_type": "display_data"
    }
   ],
   "source": [
    "# Checking the correlation between primary and secondary accounts\n",
    "plt.figure(figsize=(12,8))\n",
    "sns.heatmap(df2[['PRI.NO.OF.ACCTS', 'PRI.ACTIVE.ACCTS', 'PRI.OVERDUE.ACCTS', \n",
    "       'PRI.CURRENT.BALANCE', 'PRI.SANCTIONED.AMOUNT', 'PRI.DISBURSED.AMOUNT', 'SEC.NO.OF.ACCTS',\n",
    "       'SEC.ACTIVE.ACCTS', 'SEC.OVERDUE.ACCTS', 'SEC.CURRENT.BALANCE', 'SEC.SANCTIONED.AMOUNT', \n",
    "       'SEC.DISBURSED.AMOUNT', 'PRIMARY.INSTAL.AMT', 'SEC.INSTAL.AMT']].corr(), annot = True)\n",
    "plt.show()"
   ]
  },
  {
   "cell_type": "markdown",
   "id": "64cddc1b",
   "metadata": {},
   "source": [
    "There is no correlation between primary and secondary accounts"
   ]
  },
  {
   "cell_type": "markdown",
   "id": "7e005877",
   "metadata": {},
   "source": [
    "## Primary and Secondary Accounts"
   ]
  },
  {
   "cell_type": "code",
   "execution_count": 51,
   "id": "e38deacb",
   "metadata": {},
   "outputs": [],
   "source": [
    "# Combining the Primary and Secondary Accounts \"train\"\n",
    "\n",
    "train_df['no_of_accts'] = train_df['PRI.NO.OF.ACCTS'] + train_df['SEC.NO.OF.ACCTS']\n",
    "train_df['active_accts'] = train_df['PRI.ACTIVE.ACCTS'] + train_df['SEC.ACTIVE.ACCTS']\n",
    "train_df['overdue_accts'] = train_df['PRI.OVERDUE.ACCTS'] + train_df['SEC.OVERDUE.ACCTS']\n",
    "train_df['outstanding_amount'] = train_df['PRI.CURRENT.BALANCE'] + train_df['SEC.CURRENT.BALANCE']\n",
    "train_df['sanctioned_amount'] = train_df['PRI.SANCTIONED.AMOUNT'] + train_df['SEC.SANCTIONED.AMOUNT']\n",
    "train_df['psdisbursed_amount'] = train_df['PRI.DISBURSED.AMOUNT'] + train_df['SEC.DISBURSED.AMOUNT']\n",
    "train_df['install_amt'] = train_df['PRIMARY.INSTAL.AMT'] + train_df['SEC.INSTAL.AMT']\n",
    "     "
   ]
  },
  {
   "cell_type": "code",
   "execution_count": 52,
   "id": "3893374d",
   "metadata": {},
   "outputs": [],
   "source": [
    "# Combining the Primary and Secondary Accounts \"test\"\n",
    "\n",
    "test_df['no_of_accts'] = test_df['PRI.NO.OF.ACCTS'] + test_df['SEC.NO.OF.ACCTS']\n",
    "test_df['active_accts'] = test_df['PRI.ACTIVE.ACCTS'] + test_df['SEC.ACTIVE.ACCTS']\n",
    "test_df['overdue_accts'] = test_df['PRI.OVERDUE.ACCTS'] + test_df['SEC.OVERDUE.ACCTS']\n",
    "test_df['outstanding_amount'] = test_df['PRI.CURRENT.BALANCE'] + test_df['SEC.CURRENT.BALANCE']\n",
    "test_df['sanctioned_amount'] = test_df['PRI.SANCTIONED.AMOUNT'] + test_df['SEC.SANCTIONED.AMOUNT']\n",
    "test_df['psdisbursed_amount'] = test_df['PRI.DISBURSED.AMOUNT'] + test_df['SEC.DISBURSED.AMOUNT']\n",
    "test_df['install_amt'] = test_df['PRIMARY.INSTAL.AMT'] + test_df['SEC.INSTAL.AMT']"
   ]
  },
  {
   "cell_type": "code",
   "execution_count": 53,
   "id": "60e4f5b1",
   "metadata": {},
   "outputs": [],
   "source": [
    "to_drop = ['PRI.NO.OF.ACCTS', 'PRI.ACTIVE.ACCTS', 'PRI.OVERDUE.ACCTS', \n",
    "       'PRI.CURRENT.BALANCE', 'PRI.SANCTIONED.AMOUNT', 'PRI.DISBURSED.AMOUNT', 'SEC.NO.OF.ACCTS',\n",
    "       'SEC.ACTIVE.ACCTS', 'SEC.OVERDUE.ACCTS', 'SEC.CURRENT.BALANCE', 'SEC.SANCTIONED.AMOUNT', \n",
    "       'SEC.DISBURSED.AMOUNT', 'PRIMARY.INSTAL.AMT', 'SEC.INSTAL.AMT']\n",
    "train_df=train_df.drop(columns=to_drop)\n",
    "test_df=test_df.drop(columns=to_drop)"
   ]
  },
  {
   "cell_type": "code",
   "execution_count": 54,
   "id": "d2785c30",
   "metadata": {},
   "outputs": [],
   "source": [
    "df3 = train_df[['disbursed_amount', 'asset_cost', 'ltv','PERFORM_CNS.SCORE', 'NEW.ACCTS.IN.LAST.SIX.MONTHS',\n",
    "       'DELINQUENT.ACCTS.IN.LAST.SIX.MONTHS', 'AVERAGE.ACCT.AGE',\n",
    "       'CREDIT.HISTORY.LENGTH', 'NO.OF_INQUIRIES',\n",
    "       'Age', 'risk', 'no_of_accts', 'active_accts',\n",
    "       'overdue_accts', 'outstanding_amount', 'sanctioned_amount',\n",
    "       'psdisbursed_amount', 'install_amt']]"
   ]
  },
  {
   "cell_type": "code",
   "execution_count": 55,
   "id": "13859f79",
   "metadata": {},
   "outputs": [
    {
     "data": {
      "text/plain": [
       "<AxesSubplot:>"
      ]
     },
     "execution_count": 55,
     "metadata": {},
     "output_type": "execute_result"
    },
    {
     "data": {
      "image/png": "[encoded data removed]",
      "text/plain": [
       "<Figure size 1440x1080 with 2 Axes>"
      ]
     },
     "metadata": {
      "needs_background": "light"
     },
     "output_type": "display_data"
    }
   ],
   "source": [
    "plt.figure(figsize=(20,15))\n",
    "sns.heatmap(df3.corr(), annot= True, cmap = 'Blues')"
   ]
  },
  {
   "cell_type": "markdown",
   "id": "c4b37138",
   "metadata": {},
   "source": [
    "From the above correlation heatmap, we can see that some of the features are highly correlated(>0.75) with each other.\n",
    "\n",
    "• --- disbursed amount and asset cost - 0.75\n",
    "\n",
    "• --- perform_cns.score and risk - 0.98\n",
    "\n",
    "• --- average_acct_age and credit_history_length - 0.83\n",
    "\n",
    "• --- no_of_accts and active_accts - 0.76\n",
    "\n",
    "• --- sanctioned_amount and psdisbursed_amount - 1"
   ]
  },
  {
   "cell_type": "code",
   "execution_count": 56,
   "id": "9dba9a53",
   "metadata": {},
   "outputs": [
    {
     "data": {
      "text/plain": [
       "ExtraTreesClassifier()"
      ]
     },
     "execution_count": 56,
     "metadata": {},
     "output_type": "execute_result"
    }
   ],
   "source": [
    "model = ExtraTreesClassifier()\n",
    "model.fit(df3, train_df['loan_default'])"
   ]
  },
  {
   "cell_type": "code",
   "execution_count": 57,
   "id": "79946e90",
   "metadata": {},
   "outputs": [
    {
     "data": {
      "text/html": [
       "<div>\n",
       "<style scoped>\n",
       "    .dataframe tbody tr th:only-of-type {\n",
       "        vertical-align: middle;\n",
       "    }\n",
       "\n",
       "    .dataframe tbody tr th {\n",
       "        vertical-align: top;\n",
       "    }\n",
       "\n",
       "    .dataframe thead th {\n",
       "        text-align: right;\n",
       "    }\n",
       "</style>\n",
       "<table border=\"1\" class=\"dataframe\">\n",
       "  <thead>\n",
       "    <tr style=\"text-align: right;\">\n",
       "      <th></th>\n",
       "      <th>Feature_Importances</th>\n",
       "    </tr>\n",
       "  </thead>\n",
       "  <tbody>\n",
       "    <tr>\n",
       "      <th>ltv</th>\n",
       "      <td>0.194220</td>\n",
       "    </tr>\n",
       "    <tr>\n",
       "      <th>asset_cost</th>\n",
       "      <td>0.191044</td>\n",
       "    </tr>\n",
       "    <tr>\n",
       "      <th>disbursed_amount</th>\n",
       "      <td>0.182858</td>\n",
       "    </tr>\n",
       "    <tr>\n",
       "      <th>Age</th>\n",
       "      <td>0.105900</td>\n",
       "    </tr>\n",
       "    <tr>\n",
       "      <th>CREDIT.HISTORY.LENGTH</th>\n",
       "      <td>0.035309</td>\n",
       "    </tr>\n",
       "    <tr>\n",
       "      <th>AVERAGE.ACCT.AGE</th>\n",
       "      <td>0.034146</td>\n",
       "    </tr>\n",
       "    <tr>\n",
       "      <th>install_amt</th>\n",
       "      <td>0.033656</td>\n",
       "    </tr>\n",
       "    <tr>\n",
       "      <th>PERFORM_CNS.SCORE</th>\n",
       "      <td>0.031957</td>\n",
       "    </tr>\n",
       "    <tr>\n",
       "      <th>outstanding_amount</th>\n",
       "      <td>0.029999</td>\n",
       "    </tr>\n",
       "    <tr>\n",
       "      <th>psdisbursed_amount</th>\n",
       "      <td>0.029203</td>\n",
       "    </tr>\n",
       "    <tr>\n",
       "      <th>sanctioned_amount</th>\n",
       "      <td>0.029154</td>\n",
       "    </tr>\n",
       "    <tr>\n",
       "      <th>no_of_accts</th>\n",
       "      <td>0.026452</td>\n",
       "    </tr>\n",
       "    <tr>\n",
       "      <th>NO.OF_INQUIRIES</th>\n",
       "      <td>0.018816</td>\n",
       "    </tr>\n",
       "    <tr>\n",
       "      <th>active_accts</th>\n",
       "      <td>0.018028</td>\n",
       "    </tr>\n",
       "    <tr>\n",
       "      <th>NEW.ACCTS.IN.LAST.SIX.MONTHS</th>\n",
       "      <td>0.013556</td>\n",
       "    </tr>\n",
       "    <tr>\n",
       "      <th>overdue_accts</th>\n",
       "      <td>0.009273</td>\n",
       "    </tr>\n",
       "    <tr>\n",
       "      <th>DELINQUENT.ACCTS.IN.LAST.SIX.MONTHS</th>\n",
       "      <td>0.008804</td>\n",
       "    </tr>\n",
       "    <tr>\n",
       "      <th>risk</th>\n",
       "      <td>0.007626</td>\n",
       "    </tr>\n",
       "  </tbody>\n",
       "</table>\n",
       "</div>"
      ],
      "text/plain": [
       "                                     Feature_Importances\n",
       "ltv                                             0.194220\n",
       "asset_cost                                      0.191044\n",
       "disbursed_amount                                0.182858\n",
       "Age                                             0.105900\n",
       "CREDIT.HISTORY.LENGTH                           0.035309\n",
       "AVERAGE.ACCT.AGE                                0.034146\n",
       "install_amt                                     0.033656\n",
       "PERFORM_CNS.SCORE                               0.031957\n",
       "outstanding_amount                              0.029999\n",
       "psdisbursed_amount                              0.029203\n",
       "sanctioned_amount                               0.029154\n",
       "no_of_accts                                     0.026452\n",
       "NO.OF_INQUIRIES                                 0.018816\n",
       "active_accts                                    0.018028\n",
       "NEW.ACCTS.IN.LAST.SIX.MONTHS                    0.013556\n",
       "overdue_accts                                   0.009273\n",
       "DELINQUENT.ACCTS.IN.LAST.SIX.MONTHS             0.008804\n",
       "risk                                            0.007626"
      ]
     },
     "execution_count": 57,
     "metadata": {},
     "output_type": "execute_result"
    }
   ],
   "source": [
    "pd.DataFrame(model.feature_importances_, index= df3.columns,\n",
    "             columns = ['Feature_Importances']).sort_values(by='Feature_Importances',\n",
    "             ascending= False)"
   ]
  },
  {
   "cell_type": "code",
   "execution_count": 58,
   "id": "d601095f",
   "metadata": {},
   "outputs": [
    {
     "data": {
      "image/png": "[encoded data removed]",
      "text/plain": [
       "<Figure size 576x576 with 1 Axes>"
      ]
     },
     "metadata": {
      "needs_background": "light"
     },
     "output_type": "display_data"
    }
   ],
   "source": [
    "plt.figure(figsize=(8,8))\n",
    "ranked_features = pd.Series(model.feature_importances_, index= df3.columns)\n",
    "ranked_features.nlargest(18).plot(kind= 'barh')\n",
    "plt.show()"
   ]
  },
  {
   "cell_type": "code",
   "execution_count": 59,
   "id": "de74012e",
   "metadata": {},
   "outputs": [
    {
     "data": {
      "text/plain": [
       "Index(['disbursed_amount', 'asset_cost', 'ltv', 'manufacturer_id', 'State_ID',\n",
       "       'Aadhar_flag', 'VoterID_flag', 'PERFORM_CNS.SCORE',\n",
       "       'NEW.ACCTS.IN.LAST.SIX.MONTHS', 'DELINQUENT.ACCTS.IN.LAST.SIX.MONTHS',\n",
       "       'AVERAGE.ACCT.AGE', 'CREDIT.HISTORY.LENGTH', 'NO.OF_INQUIRIES',\n",
       "       'loan_default', 'self_employed', 'Age', 'risk', 'no_of_accts',\n",
       "       'active_accts', 'overdue_accts', 'outstanding_amount',\n",
       "       'sanctioned_amount', 'psdisbursed_amount', 'install_amt'],\n",
       "      dtype='object')"
      ]
     },
     "execution_count": 59,
     "metadata": {},
     "output_type": "execute_result"
    }
   ],
   "source": [
    "train_df.columns"
   ]
  },
  {
   "cell_type": "code",
   "execution_count": 60,
   "id": "92a6a305",
   "metadata": {},
   "outputs": [],
   "source": [
    "to_drop = ['asset_cost','PERFORM_CNS.SCORE','AVERAGE.ACCT.AGE','no_of_accts','psdisbursed_amount','DELINQUENT.ACCTS.IN.LAST.SIX.MONTHS']\n",
    "train_df=train_df.drop(columns=to_drop)\n",
    "test_df=test_df.drop(columns=to_drop)"
   ]
  },
  {
   "cell_type": "code",
   "execution_count": 61,
   "id": "8be6bead",
   "metadata": {},
   "outputs": [
    {
     "data": {
      "text/html": [
       "<div>\n",
       "<style scoped>\n",
       "    .dataframe tbody tr th:only-of-type {\n",
       "        vertical-align: middle;\n",
       "    }\n",
       "\n",
       "    .dataframe tbody tr th {\n",
       "        vertical-align: top;\n",
       "    }\n",
       "\n",
       "    .dataframe thead th {\n",
       "        text-align: right;\n",
       "    }\n",
       "</style>\n",
       "<table border=\"1\" class=\"dataframe\">\n",
       "  <thead>\n",
       "    <tr style=\"text-align: right;\">\n",
       "      <th></th>\n",
       "      <th>disbursed_amount</th>\n",
       "      <th>ltv</th>\n",
       "      <th>manufacturer_id</th>\n",
       "      <th>State_ID</th>\n",
       "      <th>Aadhar_flag</th>\n",
       "      <th>VoterID_flag</th>\n",
       "      <th>NEW.ACCTS.IN.LAST.SIX.MONTHS</th>\n",
       "      <th>CREDIT.HISTORY.LENGTH</th>\n",
       "      <th>NO.OF_INQUIRIES</th>\n",
       "      <th>loan_default</th>\n",
       "      <th>self_employed</th>\n",
       "      <th>Age</th>\n",
       "      <th>risk</th>\n",
       "      <th>active_accts</th>\n",
       "      <th>overdue_accts</th>\n",
       "      <th>outstanding_amount</th>\n",
       "      <th>sanctioned_amount</th>\n",
       "      <th>install_amt</th>\n",
       "    </tr>\n",
       "  </thead>\n",
       "  <tbody>\n",
       "    <tr>\n",
       "      <th>0</th>\n",
       "      <td>50578</td>\n",
       "      <td>89.55</td>\n",
       "      <td>45</td>\n",
       "      <td>6</td>\n",
       "      <td>1</td>\n",
       "      <td>0</td>\n",
       "      <td>0</td>\n",
       "      <td>0</td>\n",
       "      <td>0</td>\n",
       "      <td>0</td>\n",
       "      <td>0</td>\n",
       "      <td>34</td>\n",
       "      <td>-1</td>\n",
       "      <td>0</td>\n",
       "      <td>0</td>\n",
       "      <td>0</td>\n",
       "      <td>0</td>\n",
       "      <td>0</td>\n",
       "    </tr>\n",
       "    <tr>\n",
       "      <th>1</th>\n",
       "      <td>47145</td>\n",
       "      <td>73.23</td>\n",
       "      <td>45</td>\n",
       "      <td>6</td>\n",
       "      <td>1</td>\n",
       "      <td>0</td>\n",
       "      <td>0</td>\n",
       "      <td>23</td>\n",
       "      <td>0</td>\n",
       "      <td>1</td>\n",
       "      <td>1</td>\n",
       "      <td>33</td>\n",
       "      <td>2</td>\n",
       "      <td>1</td>\n",
       "      <td>1</td>\n",
       "      <td>27600</td>\n",
       "      <td>50200</td>\n",
       "      <td>1991</td>\n",
       "    </tr>\n",
       "    <tr>\n",
       "      <th>2</th>\n",
       "      <td>53278</td>\n",
       "      <td>89.63</td>\n",
       "      <td>45</td>\n",
       "      <td>6</td>\n",
       "      <td>1</td>\n",
       "      <td>0</td>\n",
       "      <td>0</td>\n",
       "      <td>0</td>\n",
       "      <td>0</td>\n",
       "      <td>0</td>\n",
       "      <td>1</td>\n",
       "      <td>33</td>\n",
       "      <td>-1</td>\n",
       "      <td>0</td>\n",
       "      <td>0</td>\n",
       "      <td>0</td>\n",
       "      <td>0</td>\n",
       "      <td>0</td>\n",
       "    </tr>\n",
       "    <tr>\n",
       "      <th>3</th>\n",
       "      <td>57513</td>\n",
       "      <td>88.48</td>\n",
       "      <td>45</td>\n",
       "      <td>6</td>\n",
       "      <td>1</td>\n",
       "      <td>0</td>\n",
       "      <td>0</td>\n",
       "      <td>15</td>\n",
       "      <td>1</td>\n",
       "      <td>1</td>\n",
       "      <td>1</td>\n",
       "      <td>25</td>\n",
       "      <td>1</td>\n",
       "      <td>0</td>\n",
       "      <td>0</td>\n",
       "      <td>0</td>\n",
       "      <td>0</td>\n",
       "      <td>31</td>\n",
       "    </tr>\n",
       "    <tr>\n",
       "      <th>4</th>\n",
       "      <td>52378</td>\n",
       "      <td>88.39</td>\n",
       "      <td>45</td>\n",
       "      <td>6</td>\n",
       "      <td>1</td>\n",
       "      <td>0</td>\n",
       "      <td>0</td>\n",
       "      <td>0</td>\n",
       "      <td>1</td>\n",
       "      <td>1</td>\n",
       "      <td>1</td>\n",
       "      <td>41</td>\n",
       "      <td>-1</td>\n",
       "      <td>0</td>\n",
       "      <td>0</td>\n",
       "      <td>0</td>\n",
       "      <td>0</td>\n",
       "      <td>0</td>\n",
       "    </tr>\n",
       "  </tbody>\n",
       "</table>\n",
       "</div>"
      ],
      "text/plain": [
       "   disbursed_amount    ltv  manufacturer_id  State_ID  Aadhar_flag  \\\n",
       "0             50578  89.55               45         6            1   \n",
       "1             47145  73.23               45         6            1   \n",
       "2             53278  89.63               45         6            1   \n",
       "3             57513  88.48               45         6            1   \n",
       "4             52378  88.39               45         6            1   \n",
       "\n",
       "   VoterID_flag  NEW.ACCTS.IN.LAST.SIX.MONTHS  CREDIT.HISTORY.LENGTH  \\\n",
       "0             0                             0                      0   \n",
       "1             0                             0                     23   \n",
       "2             0                             0                      0   \n",
       "3             0                             0                     15   \n",
       "4             0                             0                      0   \n",
       "\n",
       "   NO.OF_INQUIRIES  loan_default  self_employed  Age  risk  active_accts  \\\n",
       "0                0             0              0   34    -1             0   \n",
       "1                0             1              1   33     2             1   \n",
       "2                0             0              1   33    -1             0   \n",
       "3                1             1              1   25     1             0   \n",
       "4                1             1              1   41    -1             0   \n",
       "\n",
       "   overdue_accts  outstanding_amount  sanctioned_amount  install_amt  \n",
       "0              0                   0                  0            0  \n",
       "1              1               27600              50200         1991  \n",
       "2              0                   0                  0            0  \n",
       "3              0                   0                  0           31  \n",
       "4              0                   0                  0            0  "
      ]
     },
     "execution_count": 61,
     "metadata": {},
     "output_type": "execute_result"
    }
   ],
   "source": [
    "train_df.head()"
   ]
  },
  {
   "cell_type": "code",
   "execution_count": 62,
   "id": "5c8abbee",
   "metadata": {},
   "outputs": [
    {
     "data": {
      "text/plain": [
       "(233154, 18)"
      ]
     },
     "execution_count": 62,
     "metadata": {},
     "output_type": "execute_result"
    }
   ],
   "source": [
    "train_df.shape"
   ]
  },
  {
   "cell_type": "markdown",
   "id": "059a89ce",
   "metadata": {},
   "source": [
    "## Checking and Handling outliers"
   ]
  },
  {
   "cell_type": "code",
   "execution_count": 63,
   "id": "716033ed",
   "metadata": {},
   "outputs": [],
   "source": [
    "df12 = train_df[['disbursed_amount', 'ltv',\n",
    "       'NEW.ACCTS.IN.LAST.SIX.MONTHS',\n",
    "       'CREDIT.HISTORY.LENGTH', 'NO.OF_INQUIRIES',\n",
    "       'Age', 'active_accts', 'overdue_accts',\n",
    "       'outstanding_amount', 'sanctioned_amount', 'install_amt']]"
   ]
  },
  {
   "cell_type": "code",
   "execution_count": 64,
   "id": "ade9180d",
   "metadata": {},
   "outputs": [
    {
     "name": "stderr",
     "output_type": "stream",
     "text": [
      "C:\\Users\\Sebastian\\Anaconda3\\lib\\site-packages\\seaborn\\_decorators.py:36: FutureWarning: Pass the following variable as a keyword arg: x. From version 0.12, the only valid positional argument will be `data`, and passing other arguments without an explicit keyword will result in an error or misinterpretation.\n",
      "  warnings.warn(\n",
      "C:\\Users\\Sebastian\\Anaconda3\\lib\\site-packages\\seaborn\\_decorators.py:36: FutureWarning: Pass the following variable as a keyword arg: x. From version 0.12, the only valid positional argument will be `data`, and passing other arguments without an explicit keyword will result in an error or misinterpretation.\n",
      "  warnings.warn(\n",
      "C:\\Users\\Sebastian\\Anaconda3\\lib\\site-packages\\seaborn\\_decorators.py:36: FutureWarning: Pass the following variable as a keyword arg: x. From version 0.12, the only valid positional argument will be `data`, and passing other arguments without an explicit keyword will result in an error or misinterpretation.\n",
      "  warnings.warn(\n",
      "C:\\Users\\Sebastian\\Anaconda3\\lib\\site-packages\\seaborn\\_decorators.py:36: FutureWarning: Pass the following variable as a keyword arg: x. From version 0.12, the only valid positional argument will be `data`, and passing other arguments without an explicit keyword will result in an error or misinterpretation.\n",
      "  warnings.warn(\n",
      "C:\\Users\\Sebastian\\Anaconda3\\lib\\site-packages\\seaborn\\_decorators.py:36: FutureWarning: Pass the following variable as a keyword arg: x. From version 0.12, the only valid positional argument will be `data`, and passing other arguments without an explicit keyword will result in an error or misinterpretation.\n",
      "  warnings.warn(\n",
      "C:\\Users\\Sebastian\\Anaconda3\\lib\\site-packages\\seaborn\\_decorators.py:36: FutureWarning: Pass the following variable as a keyword arg: x. From version 0.12, the only valid positional argument will be `data`, and passing other arguments without an explicit keyword will result in an error or misinterpretation.\n",
      "  warnings.warn(\n",
      "C:\\Users\\Sebastian\\Anaconda3\\lib\\site-packages\\seaborn\\_decorators.py:36: FutureWarning: Pass the following variable as a keyword arg: x. From version 0.12, the only valid positional argument will be `data`, and passing other arguments without an explicit keyword will result in an error or misinterpretation.\n",
      "  warnings.warn(\n",
      "C:\\Users\\Sebastian\\Anaconda3\\lib\\site-packages\\seaborn\\_decorators.py:36: FutureWarning: Pass the following variable as a keyword arg: x. From version 0.12, the only valid positional argument will be `data`, and passing other arguments without an explicit keyword will result in an error or misinterpretation.\n",
      "  warnings.warn(\n",
      "C:\\Users\\Sebastian\\Anaconda3\\lib\\site-packages\\seaborn\\_decorators.py:36: FutureWarning: Pass the following variable as a keyword arg: x. From version 0.12, the only valid positional argument will be `data`, and passing other arguments without an explicit keyword will result in an error or misinterpretation.\n",
      "  warnings.warn(\n",
      "C:\\Users\\Sebastian\\Anaconda3\\lib\\site-packages\\seaborn\\_decorators.py:36: FutureWarning: Pass the following variable as a keyword arg: x. From version 0.12, the only valid positional argument will be `data`, and passing other arguments without an explicit keyword will result in an error or misinterpretation.\n",
      "  warnings.warn(\n",
      "C:\\Users\\Sebastian\\Anaconda3\\lib\\site-packages\\seaborn\\_decorators.py:36: FutureWarning: Pass the following variable as a keyword arg: x. From version 0.12, the only valid positional argument will be `data`, and passing other arguments without an explicit keyword will result in an error or misinterpretation.\n",
      "  warnings.warn(\n"
     ]
    },
    {
     "data": {
      "image/png": "[encoded data removed]",
      "text/plain": [
       "<Figure size 1440x1440 with 11 Axes>"
      ]
     },
     "metadata": {
      "needs_background": "light"
     },
     "output_type": "display_data"
    }
   ],
   "source": [
    "plt.figure(figsize=(20,20))\n",
    "x = 1\n",
    "for column in df12.columns:\n",
    "    if x<=11:\n",
    "        plt.subplot(5,3,x)\n",
    "        sns.boxplot(train_df[column])\n",
    "    x+=1\n",
    "plt.show()"
   ]
  },
  {
   "cell_type": "code",
   "execution_count": 65,
   "id": "2ba118f3",
   "metadata": {},
   "outputs": [],
   "source": [
    "testdf12 = test_df[['disbursed_amount', 'ltv',\n",
    "       'NEW.ACCTS.IN.LAST.SIX.MONTHS',\n",
    "       'CREDIT.HISTORY.LENGTH', 'NO.OF_INQUIRIES',\n",
    "       'Age', 'active_accts', 'overdue_accts',\n",
    "       'outstanding_amount', 'sanctioned_amount', 'install_amt']]"
   ]
  },
  {
   "cell_type": "code",
   "execution_count": 66,
   "id": "db707ec1",
   "metadata": {},
   "outputs": [],
   "source": [
    "train_df = train_df[train_df['disbursed_amount']<max(train_df['disbursed_amount'])]\n",
    "train_df = train_df[train_df['NEW.ACCTS.IN.LAST.SIX.MONTHS']<25]\n",
    "train_df = train_df[train_df['CREDIT.HISTORY.LENGTH']<400]\n",
    "train_df = train_df[train_df['NO.OF_INQUIRIES']<25]\n",
    "train_df = train_df[train_df['active_accts']<50]\n",
    "train_df = train_df[train_df['sanctioned_amount']<max(train_df['sanctioned_amount'])]"
   ]
  },
  {
   "cell_type": "code",
   "execution_count": 67,
   "id": "ca7b658e",
   "metadata": {},
   "outputs": [
    {
     "name": "stdout",
     "output_type": "stream",
     "text": [
      "0 percentile value is -6678296\n",
      "10 percentile value is 0\n",
      "20 percentile value is 0\n",
      "30 percentile value is 0\n",
      "40 percentile value is 0\n",
      "50 percentile value is 0\n",
      "60 percentile value is 0\n",
      "70 percentile value is 18150\n",
      "80 percentile value is 66474\n",
      "90 percentile value is 317224\n",
      "('100 percentile value is ', 75603400)\n"
     ]
    }
   ],
   "source": [
    "for i in range(0,100,10):\n",
    "    var = train_df['outstanding_amount'].values\n",
    "    var = np.sort(var, axis = None )\n",
    "    print('{} percentile value is {}'.format(i, var[int(len(var)*(float(i)/100))]))\n",
    "print(('100 percentile value is ', var[-1]))"
   ]
  },
  {
   "cell_type": "code",
   "execution_count": 68,
   "id": "88a38449",
   "metadata": {},
   "outputs": [],
   "source": [
    "train_df = train_df[(train_df['outstanding_amount']>-6678296) & (train_df['outstanding_amount']<75603400)]"
   ]
  },
  {
   "cell_type": "code",
   "execution_count": 69,
   "id": "6ce25872",
   "metadata": {},
   "outputs": [],
   "source": [
    "train_df = train_df[train_df['install_amt']<10000000]"
   ]
  },
  {
   "cell_type": "code",
   "execution_count": 70,
   "id": "31f35e63",
   "metadata": {},
   "outputs": [
    {
     "name": "stderr",
     "output_type": "stream",
     "text": [
      "C:\\Users\\Sebastian\\Anaconda3\\lib\\site-packages\\seaborn\\_decorators.py:36: FutureWarning: Pass the following variable as a keyword arg: x. From version 0.12, the only valid positional argument will be `data`, and passing other arguments without an explicit keyword will result in an error or misinterpretation.\n",
      "  warnings.warn(\n",
      "C:\\Users\\Sebastian\\Anaconda3\\lib\\site-packages\\seaborn\\_decorators.py:36: FutureWarning: Pass the following variable as a keyword arg: x. From version 0.12, the only valid positional argument will be `data`, and passing other arguments without an explicit keyword will result in an error or misinterpretation.\n",
      "  warnings.warn(\n",
      "C:\\Users\\Sebastian\\Anaconda3\\lib\\site-packages\\seaborn\\_decorators.py:36: FutureWarning: Pass the following variable as a keyword arg: x. From version 0.12, the only valid positional argument will be `data`, and passing other arguments without an explicit keyword will result in an error or misinterpretation.\n",
      "  warnings.warn(\n",
      "C:\\Users\\Sebastian\\Anaconda3\\lib\\site-packages\\seaborn\\_decorators.py:36: FutureWarning: Pass the following variable as a keyword arg: x. From version 0.12, the only valid positional argument will be `data`, and passing other arguments without an explicit keyword will result in an error or misinterpretation.\n",
      "  warnings.warn(\n",
      "C:\\Users\\Sebastian\\Anaconda3\\lib\\site-packages\\seaborn\\_decorators.py:36: FutureWarning: Pass the following variable as a keyword arg: x. From version 0.12, the only valid positional argument will be `data`, and passing other arguments without an explicit keyword will result in an error or misinterpretation.\n",
      "  warnings.warn(\n",
      "C:\\Users\\Sebastian\\Anaconda3\\lib\\site-packages\\seaborn\\_decorators.py:36: FutureWarning: Pass the following variable as a keyword arg: x. From version 0.12, the only valid positional argument will be `data`, and passing other arguments without an explicit keyword will result in an error or misinterpretation.\n",
      "  warnings.warn(\n",
      "C:\\Users\\Sebastian\\Anaconda3\\lib\\site-packages\\seaborn\\_decorators.py:36: FutureWarning: Pass the following variable as a keyword arg: x. From version 0.12, the only valid positional argument will be `data`, and passing other arguments without an explicit keyword will result in an error or misinterpretation.\n",
      "  warnings.warn(\n",
      "C:\\Users\\Sebastian\\Anaconda3\\lib\\site-packages\\seaborn\\_decorators.py:36: FutureWarning: Pass the following variable as a keyword arg: x. From version 0.12, the only valid positional argument will be `data`, and passing other arguments without an explicit keyword will result in an error or misinterpretation.\n",
      "  warnings.warn(\n",
      "C:\\Users\\Sebastian\\Anaconda3\\lib\\site-packages\\seaborn\\_decorators.py:36: FutureWarning: Pass the following variable as a keyword arg: x. From version 0.12, the only valid positional argument will be `data`, and passing other arguments without an explicit keyword will result in an error or misinterpretation.\n",
      "  warnings.warn(\n",
      "C:\\Users\\Sebastian\\Anaconda3\\lib\\site-packages\\seaborn\\_decorators.py:36: FutureWarning: Pass the following variable as a keyword arg: x. From version 0.12, the only valid positional argument will be `data`, and passing other arguments without an explicit keyword will result in an error or misinterpretation.\n",
      "  warnings.warn(\n",
      "C:\\Users\\Sebastian\\Anaconda3\\lib\\site-packages\\seaborn\\_decorators.py:36: FutureWarning: Pass the following variable as a keyword arg: x. From version 0.12, the only valid positional argument will be `data`, and passing other arguments without an explicit keyword will result in an error or misinterpretation.\n",
      "  warnings.warn(\n"
     ]
    },
    {
     "data": {
      "image/png": "[encoded data removed]",
      "text/plain": [
       "<Figure size 1440x1440 with 11 Axes>"
      ]
     },
     "metadata": {
      "needs_background": "light"
     },
     "output_type": "display_data"
    }
   ],
   "source": [
    "plt.figure(figsize=(20,20))\n",
    "x = 1\n",
    "for column in df12.columns:\n",
    "    if x<=11:\n",
    "        plt.subplot(5,3,x)\n",
    "        sns.boxplot(train_df[column])\n",
    "    x+=1\n",
    "plt.show()"
   ]
  },
  {
   "cell_type": "code",
   "execution_count": 71,
   "id": "1e0403b7",
   "metadata": {},
   "outputs": [],
   "source": [
    "# Removing few more outliers/extreme values\n",
    "\n",
    "train_df = train_df[train_df['disbursed_amount']<250000]\n",
    "train_df = train_df[train_df['outstanding_amount']<40000000]\n",
    "train_df = train_df[train_df['sanctioned_amount']<0.800000e+08]\n",
    "train_df = train_df[train_df['install_amt']<=5.000000e+06]"
   ]
  },
  {
   "cell_type": "code",
   "execution_count": null,
   "id": "326e014e",
   "metadata": {},
   "outputs": [],
   "source": [
    "n = train_df.shape[0]\n",
    "sns.pairplot(train_df[['disbursed_amount', 'ltv','NEW.ACCTS.IN.LAST.SIX.MONTHS', \n",
    "                 'loan_default']][0:n], hue='loan_default', \n",
    "             vars=['disbursed_amount', 'ltv','NEW.ACCTS.IN.LAST.SIX.MONTHS'])\n",
    "plt.show()"
   ]
  },
  {
   "cell_type": "code",
   "execution_count": null,
   "id": "a8cf0dc0",
   "metadata": {},
   "outputs": [],
   "source": [
    "n = train_df.shape[0]\n",
    "sns.pairplot(train_df[['CREDIT.HISTORY.LENGTH', 'NO.OF_INQUIRIES',\n",
    "       'self_employed', 'Age', 'risk','loan_default']][0:n], hue='loan_default', \n",
    "             vars=['CREDIT.HISTORY.LENGTH', 'NO.OF_INQUIRIES',\n",
    "       'self_employed', 'Age', 'risk'])\n",
    "plt.show()"
   ]
  },
  {
   "cell_type": "code",
   "execution_count": null,
   "id": "0fba2118",
   "metadata": {},
   "outputs": [],
   "source": [
    "n = train_df.shape[0]\n",
    "sns.pairplot(train_df[['active_accts', 'overdue_accts',\n",
    "       'outstanding_amount', 'sanctioned_amount', 'install_amt','loan_default']][0:n], hue='loan_default', \n",
    "             vars=['active_accts', 'overdue_accts',\n",
    "       'outstanding_amount', 'sanctioned_amount', 'install_amt'])\n",
    "plt.show()"
   ]
  },
  {
   "cell_type": "code",
   "execution_count": null,
   "id": "88b7deae",
   "metadata": {},
   "outputs": [],
   "source": [
    "train_df.columns"
   ]
  },
  {
   "cell_type": "code",
   "execution_count": null,
   "id": "7114f4be",
   "metadata": {},
   "outputs": [],
   "source": [
    "train_df"
   ]
  },
  {
   "cell_type": "code",
   "execution_count": null,
   "id": "7abb59fd",
   "metadata": {},
   "outputs": [],
   "source": [
    "plt.figure(figsize=(12,8))\n",
    "sns.heatmap(train_df[['disbursed_amount', 'ltv','NEW.ACCTS.IN.LAST.SIX.MONTHS','CREDIT.HISTORY.LENGTH','NO.OF_INQUIRIES',\n",
    "               'Age','risk','active_accts', 'overdue_accts', 'outstanding_amount','sanctioned_amount', \n",
    "                'install_amt']].corr(),annot=True)\n",
    "plt.show()"
   ]
  },
  {
   "cell_type": "code",
   "execution_count": null,
   "id": "5cd5e61c",
   "metadata": {},
   "outputs": [],
   "source": [
    "train_df.drop('outstanding_amount',axis=1,inplace=True)\n",
    "test_df.drop('outstanding_amount',axis=1,inplace=True)"
   ]
  },
  {
   "cell_type": "markdown",
   "id": "a959a0e9",
   "metadata": {},
   "source": [
    "## Modelling"
   ]
  },
  {
   "cell_type": "code",
   "execution_count": null,
   "id": "21dd417d",
   "metadata": {},
   "outputs": [],
   "source": [
    "y = train_df['loan_default']\n",
    "X = train_df.drop('loan_default',axis=1)"
   ]
  },
  {
   "cell_type": "code",
   "execution_count": null,
   "id": "5ad7d180",
   "metadata": {},
   "outputs": [],
   "source": [
    "y = list(y)"
   ]
  },
  {
   "cell_type": "markdown",
   "id": "7577e012",
   "metadata": {},
   "source": [
    "## Scaling"
   ]
  },
  {
   "cell_type": "code",
   "execution_count": null,
   "id": "130276c3",
   "metadata": {},
   "outputs": [],
   "source": [
    "from sklearn.preprocessing import StandardScaler\n",
    "sc = StandardScaler()\n",
    "Xscaled = sc.fit_transform(X)\n",
    "Xscaled = pd.DataFrame(Xscaled, columns=X.columns)"
   ]
  },
  {
   "cell_type": "code",
   "execution_count": null,
   "id": "cdd6f701",
   "metadata": {},
   "outputs": [],
   "source": [
    "import statsmodels.api as sm\n",
    "Xc = sm.add_constant(Xscaled)\n",
    "model = sm.Logit(y, Xc).fit()\n",
    "model.summary()"
   ]
  },
  {
   "cell_type": "code",
   "execution_count": null,
   "id": "d5f13481",
   "metadata": {},
   "outputs": [],
   "source": [
    "from sklearn.metrics import confusion_matrix,roc_auc_score,log_loss,roc_curve,accuracy_score"
   ]
  },
  {
   "cell_type": "code",
   "execution_count": null,
   "id": "7de336a6",
   "metadata": {},
   "outputs": [],
   "source": [
    "y_pred = model.predict(Xc)\n",
    "prob = pd.DataFrame(y_pred, columns=['probability'])\n",
    "prob['loan_default'] = y\n",
    "prob['y_test'] = prob['probability'].apply(lambda x: 0 if x < 0.5 else 1)\n",
    "prob.head()"
   ]
  },
  {
   "cell_type": "code",
   "execution_count": null,
   "id": "355745ef",
   "metadata": {},
   "outputs": [],
   "source": [
    "# AUC score\n",
    "roc_auc_score(prob['loan_default'],prob['probability'])"
   ]
  },
  {
   "cell_type": "markdown",
   "id": "c52e58ef",
   "metadata": {},
   "source": [
    "## Checking for multicollinearity"
   ]
  },
  {
   "cell_type": "code",
   "execution_count": null,
   "id": "87e94470",
   "metadata": {},
   "outputs": [],
   "source": [
    "from statsmodels.stats.outliers_influence import variance_inflation_factor as vif\n",
    "vf = [vif(Xscaled.values, i) for i in range(X.shape[1])]\n",
    "pd.DataFrame(vf, index=X.columns, columns=['vif'])"
   ]
  },
  {
   "cell_type": "markdown",
   "id": "0a35add6",
   "metadata": {},
   "source": [
    "If VIF is => 10, multicollinearity is considered to be a problem."
   ]
  },
  {
   "cell_type": "markdown",
   "id": "7ba509c2",
   "metadata": {},
   "source": [
    "## Building sklearn Linear Regression model"
   ]
  },
  {
   "cell_type": "code",
   "execution_count": null,
   "id": "b41db297",
   "metadata": {},
   "outputs": [],
   "source": [
    "y = train_df['loan_default']\n",
    "X = train_df.drop('loan_default',axis=1)"
   ]
  },
  {
   "cell_type": "code",
   "execution_count": null,
   "id": "2d6230a6",
   "metadata": {},
   "outputs": [],
   "source": [
    "# Scaling\n",
    "from sklearn.preprocessing import StandardScaler\n",
    "sc = StandardScaler()\n",
    "X_scaled = sc.fit_transform(X)"
   ]
  },
  {
   "cell_type": "code",
   "execution_count": null,
   "id": "62b38bd7",
   "metadata": {},
   "outputs": [],
   "source": [
    "from sklearn.model_selection import train_test_split\n",
    "X_train,X_test,y_train,y_test = train_test_split(X_scaled,y,test_size=0.3,random_state=24)"
   ]
  },
  {
   "cell_type": "code",
   "execution_count": null,
   "id": "6e16ab86",
   "metadata": {},
   "outputs": [],
   "source": [
    "from sklearn.linear_model import LogisticRegression\n",
    "lr = LogisticRegression(solver='liblinear', random_state=24)\n",
    "lr.fit(X_train, y_train) "
   ]
  },
  {
   "cell_type": "code",
   "execution_count": null,
   "id": "1e7fcb55",
   "metadata": {},
   "outputs": [],
   "source": [
    "y_train_pred = lr.predict(X_train)\n",
    "y_test_pred = lr.predict(X_test)\n",
    "y_train_prob = lr.predict_proba(X_train)\n",
    "y_test_prob = lr.predict_proba(X_test)"
   ]
  },
  {
   "cell_type": "code",
   "execution_count": null,
   "id": "ec769116",
   "metadata": {},
   "outputs": [],
   "source": [
    "print('The train AUC score is:', roc_auc_score(y_train, y_train_prob[:,1]))\n",
    "print('The test AUC score is:', roc_auc_score(y_test, y_test_prob[:,1]))"
   ]
  },
  {
   "cell_type": "code",
   "execution_count": null,
   "id": "ef8fd25c",
   "metadata": {},
   "outputs": [],
   "source": [
    "fpr, tpr, thresholds = roc_curve(y_test, y_test_prob[:,1])\n",
    "plt.plot(fpr, fpr)\n",
    "plt.plot(fpr, tpr)\n",
    "plt.grid()\n",
    "plt.title('Test ROC curve')\n",
    "plt.show()"
   ]
  },
  {
   "cell_type": "code",
   "execution_count": null,
   "id": "b6c01e1e",
   "metadata": {},
   "outputs": [],
   "source": [
    "confusion_matrix(y_test, y_test_pred)"
   ]
  },
  {
   "cell_type": "code",
   "execution_count": null,
   "id": "36ca9474",
   "metadata": {},
   "outputs": [],
   "source": [
    "sns.heatmap(confusion_matrix(y_test, y_test_pred), annot= True)\n",
    "plt.show()"
   ]
  },
  {
   "cell_type": "code",
   "execution_count": null,
   "id": "b2d840dc",
   "metadata": {},
   "outputs": [],
   "source": [
    "# FN's are too high, TP's are too low. Maybe applying SMOTE and balancing the data might help.\n",
    "from sklearn.metrics import classification_report\n",
    "print('Test Classification Report\\n')\n",
    "print(classification_report(y_test, y_test_pred))"
   ]
  },
  {
   "cell_type": "code",
   "execution_count": null,
   "id": "16a8c30f",
   "metadata": {},
   "outputs": [],
   "source": [
    "from sklearn.calibration import CalibratedClassifierCV\n",
    "model_isotonic = CalibratedClassifierCV(lr, cv=3, method='isotonic')\n",
    "model_isotonic.fit(X_train, y_train)"
   ]
  },
  {
   "cell_type": "code",
   "execution_count": null,
   "id": "b80c7317",
   "metadata": {},
   "outputs": [],
   "source": [
    "isotonic_predict_prob_test = model_isotonic.predict_proba(X_test)"
   ]
  },
  {
   "cell_type": "code",
   "execution_count": null,
   "id": "fb9380dd",
   "metadata": {},
   "outputs": [],
   "source": [
    "log_loss(y_test, isotonic_predict_prob_test)"
   ]
  },
  {
   "cell_type": "markdown",
   "id": "22ea05a3",
   "metadata": {},
   "source": [
    "Using SMOTE to handle imbalance"
   ]
  },
  {
   "cell_type": "code",
   "execution_count": null,
   "id": "fd0293c3",
   "metadata": {},
   "outputs": [],
   "source": [
    "!pip install imbalanced-learn"
   ]
  },
  {
   "cell_type": "code",
   "execution_count": null,
   "id": "1c2e2aad",
   "metadata": {},
   "outputs": [],
   "source": [
    "from imblearn.over_sampling import SMOTE\n",
    "smote = SMOTE()\n",
    "X_train_sm, y_train_sm = smote.fit_resample(X_train, y_train)\n",
    "X_train_sm.shape, y_train_sm.shape"
   ]
  },
  {
   "cell_type": "code",
   "execution_count": null,
   "id": "113ca7ab",
   "metadata": {},
   "outputs": [],
   "source": [
    "lr1 = LogisticRegression(solver='liblinear', random_state=24)\n",
    "lr1.fit(X_train_sm, y_train_sm)"
   ]
  },
  {
   "cell_type": "code",
   "execution_count": null,
   "id": "3ca03530",
   "metadata": {},
   "outputs": [],
   "source": [
    "y_train_pred = lr1.predict(X_train_sm)\n",
    "y_test_pred = lr1.predict(X_test)\n",
    "y_train_prob = lr1.predict_proba(X_train_sm)\n",
    "y_test_prob = lr1.predict_proba(X_test)"
   ]
  },
  {
   "cell_type": "code",
   "execution_count": null,
   "id": "31083085",
   "metadata": {},
   "outputs": [],
   "source": [
    "print('The train AUC score is:', roc_auc_score(y_train_sm, y_train_prob[:,1]))\n",
    "print('The test AUC score is:', roc_auc_score(y_test, y_test_prob[:,1]))"
   ]
  },
  {
   "cell_type": "code",
   "execution_count": null,
   "id": "f6d70fca",
   "metadata": {},
   "outputs": [],
   "source": [
    "fpr, tpr, thresholds = roc_curve(y_test, y_test_prob[:,1])\n",
    "plt.plot(fpr,fpr)\n",
    "plt.plot(fpr,tpr)\n",
    "plt.grid()\n",
    "plt.title('Test ROC curve')\n",
    "plt.show()"
   ]
  },
  {
   "cell_type": "code",
   "execution_count": null,
   "id": "a205f556",
   "metadata": {},
   "outputs": [],
   "source": [
    "confusion_matrix(y_test, y_test_pred)"
   ]
  },
  {
   "cell_type": "code",
   "execution_count": null,
   "id": "00a09f8b",
   "metadata": {},
   "outputs": [],
   "source": [
    "sns.heatmap(confusion_matrix(y_test, y_test_pred), annot = True)\n",
    "plt.show()"
   ]
  },
  {
   "cell_type": "code",
   "execution_count": null,
   "id": "004f424a",
   "metadata": {},
   "outputs": [],
   "source": [
    "from sklearn.metrics import classification_report\n",
    "print('Test Classification Report\\n')\n",
    "print(classification_report(y_test,y_test_pred))"
   ]
  },
  {
   "cell_type": "code",
   "execution_count": null,
   "id": "16451865",
   "metadata": {},
   "outputs": [],
   "source": [
    "from sklearn.calibration import CalibratedClassifierCV\n",
    "model_isotonic = CalibratedClassifierCV(lr1, cv=3, method='isotonic')\n",
    "model_isotonic.fit(X_train_sm,y_train_sm)"
   ]
  },
  {
   "cell_type": "code",
   "execution_count": null,
   "id": "089ad88e",
   "metadata": {},
   "outputs": [],
   "source": [
    "isotonic_predict_prob_test = model_isotonic.predict_proba(X_test)"
   ]
  },
  {
   "cell_type": "code",
   "execution_count": null,
   "id": "2c937561",
   "metadata": {},
   "outputs": [],
   "source": [
    "log_loss(y_test,isotonic_predict_prob_test)"
   ]
  },
  {
   "cell_type": "markdown",
   "id": "228e430f",
   "metadata": {},
   "source": [
    "## Random Forest Classifier"
   ]
  },
  {
   "cell_type": "markdown",
   "id": "165d79d7",
   "metadata": {},
   "source": [
    "Modelling without SMOTE"
   ]
  },
  {
   "cell_type": "code",
   "execution_count": null,
   "id": "c040dbd0",
   "metadata": {},
   "outputs": [],
   "source": [
    "rsearch1_best_params = {'max_depth': 13,\n",
    " 'min_samples_leaf': 10,\n",
    " 'min_samples_split': 11,\n",
    " 'n_estimators': 374}"
   ]
  },
  {
   "cell_type": "code",
   "execution_count": null,
   "id": "06034e83",
   "metadata": {},
   "outputs": [],
   "source": [
    "from sklearn.ensemble import RandomForestClassifier\n",
    "rfc1 = RandomForestClassifier(**rsearch1_best_params, random_state=24)\n",
    "rfc1.fit(X_train, y_train)"
   ]
  },
  {
   "cell_type": "code",
   "execution_count": null,
   "id": "8c57f398",
   "metadata": {},
   "outputs": [],
   "source": [
    "y_train_pred = rfc1.predict(X_train)\n",
    "y_test_pred = rfc1.predict(X_test)\n",
    "y_train_prob = rfc1.predict_proba(X_train)\n",
    "y_test_prob = rfc1.predict_proba(X_test)"
   ]
  },
  {
   "cell_type": "code",
   "execution_count": null,
   "id": "ffe1781b",
   "metadata": {},
   "outputs": [],
   "source": [
    "print('The train AUC score is:',roc_auc_score(y_train,y_train_prob[:,1]))\n",
    "print('The test AUC score is:',roc_auc_score(y_test,y_test_prob[:,1]))"
   ]
  },
  {
   "cell_type": "code",
   "execution_count": null,
   "id": "44146ca1",
   "metadata": {},
   "outputs": [],
   "source": [
    "fpr, tpr, thresholds = roc_curve(y_test, y_test_prob[:, 1])\n",
    "plt.plot(fpr, fpr)\n",
    "plt.plot(fpr, tpr)\n",
    "plt.grid()\n",
    "plt.title('Test ROC Curve')\n",
    "plt.show()"
   ]
  },
  {
   "cell_type": "code",
   "execution_count": null,
   "id": "ead0d305",
   "metadata": {},
   "outputs": [],
   "source": [
    "confusion_matrix(y_test,y_test_pred)"
   ]
  },
  {
   "cell_type": "code",
   "execution_count": null,
   "id": "c3bcf65e",
   "metadata": {},
   "outputs": [],
   "source": [
    "sns.heatmap(confusion_matrix(y_test,y_test_pred),annot=True)\n",
    "plt.show()"
   ]
  },
  {
   "cell_type": "code",
   "execution_count": null,
   "id": "8f947461",
   "metadata": {},
   "outputs": [],
   "source": [
    "from sklearn.metrics import classification_report\n",
    "print('Test Classification Report\\n')\n",
    "print(classification_report(y_test,y_test_pred))"
   ]
  },
  {
   "cell_type": "code",
   "execution_count": null,
   "id": "3e78f44b",
   "metadata": {},
   "outputs": [],
   "source": [
    "from sklearn.calibration import CalibratedClassifierCV\n",
    "model_isotonic = CalibratedClassifierCV(rfc1, cv=3, method='isotonic')\n",
    "model_isotonic.fit(X_train,y_train)"
   ]
  },
  {
   "cell_type": "code",
   "execution_count": null,
   "id": "e731d0a8",
   "metadata": {},
   "outputs": [],
   "source": [
    "isotonic_predict_prob_test = model_isotonic.predict_proba(X_test)\n",
    "log_loss(y_test,isotonic_predict_prob_test)"
   ]
  },
  {
   "cell_type": "markdown",
   "id": "e74d0059",
   "metadata": {},
   "source": [
    "Modelling with SMOTE"
   ]
  },
  {
   "cell_type": "code",
   "execution_count": null,
   "id": "1d1ad025",
   "metadata": {},
   "outputs": [],
   "source": [
    "rsearch_best_params = {'max_depth': 17,\n",
    " 'min_samples_leaf': 2,\n",
    " 'min_samples_split': 4,\n",
    " 'n_estimators': 317}"
   ]
  },
  {
   "cell_type": "code",
   "execution_count": null,
   "id": "96c82c51",
   "metadata": {},
   "outputs": [],
   "source": [
    "rfc = RandomForestClassifier(**rsearch_best_params, random_state=24)\n",
    "rfc.fit(X_train_sm, y_train_sm)"
   ]
  },
  {
   "cell_type": "code",
   "execution_count": null,
   "id": "389cb684",
   "metadata": {},
   "outputs": [],
   "source": [
    "y_train_pred = rfc.predict(X_train_sm)\n",
    "y_test_pred = rfc.predict(X_test)\n",
    "y_train_prob = rfc.predict_proba(X_train_sm)\n",
    "y_test_prob = rfc.predict_proba(X_test)"
   ]
  },
  {
   "cell_type": "code",
   "execution_count": null,
   "id": "d631368a",
   "metadata": {},
   "outputs": [],
   "source": [
    "print('The train AUC score is:',roc_auc_score(y_train_sm,y_train_prob[:,1]))\n",
    "print('The test AUC score is:',roc_auc_score(y_test,y_test_prob[:,1]))"
   ]
  },
  {
   "cell_type": "code",
   "execution_count": null,
   "id": "9186e6cc",
   "metadata": {},
   "outputs": [],
   "source": [
    "fpr, tpr, thresholds = roc_curve(y_test, y_test_prob[:,1])\n",
    "plt.plot(fpr,fpr)\n",
    "plt.plot(fpr,tpr)\n",
    "plt.grid()\n",
    "plt.title('Test ROC curve')\n",
    "plt.show()"
   ]
  },
  {
   "cell_type": "code",
   "execution_count": null,
   "id": "f6292658",
   "metadata": {},
   "outputs": [],
   "source": [
    "confusion_matrix(y_test,y_test_pred)"
   ]
  },
  {
   "cell_type": "code",
   "execution_count": null,
   "id": "55596fa6",
   "metadata": {},
   "outputs": [],
   "source": [
    "sns.heatmap(confusion_matrix(y_test,y_test_pred),annot=True)\n",
    "plt.show()"
   ]
  },
  {
   "cell_type": "code",
   "execution_count": null,
   "id": "81f37813",
   "metadata": {},
   "outputs": [],
   "source": [
    "from sklearn.metrics import classification_report\n",
    "print('Test Classification Report\\n')\n",
    "print(classification_report(y_test,y_test_pred))"
   ]
  },
  {
   "cell_type": "code",
   "execution_count": null,
   "id": "d1b9a7b1",
   "metadata": {},
   "outputs": [],
   "source": [
    "from sklearn.calibration import CalibratedClassifierCV\n",
    "model_isotonic = CalibratedClassifierCV(rfc, cv=3, method='isotonic')\n",
    "model_isotonic.fit(X_train_sm,y_train_sm)"
   ]
  },
  {
   "cell_type": "code",
   "execution_count": null,
   "id": "b21f61f9",
   "metadata": {},
   "outputs": [],
   "source": [
    "isotonic_predict_prob_test = model_isotonic.predict_proba(X_test)\n",
    "log_loss(y_test,isotonic_predict_prob_test)"
   ]
  },
  {
   "cell_type": "markdown",
   "id": "d108ad6f",
   "metadata": {},
   "source": [
    "## LightGBM"
   ]
  },
  {
   "cell_type": "markdown",
   "id": "3c18b699",
   "metadata": {},
   "source": [
    "Modelling without SMOTE"
   ]
  },
  {
   "cell_type": "code",
   "execution_count": null,
   "id": "f689f913",
   "metadata": {},
   "outputs": [],
   "source": [
    "!pip install lightgbm"
   ]
  },
  {
   "cell_type": "code",
   "execution_count": null,
   "id": "ee4054b3",
   "metadata": {},
   "outputs": [],
   "source": [
    "import lightgbm as lgb"
   ]
  },
  {
   "cell_type": "code",
   "execution_count": null,
   "id": "c2675e3f",
   "metadata": {},
   "outputs": [],
   "source": [
    "rsearch1_best_params = {'learning_rate': 0.10308835171850986,\n",
    " 'max_depth': 3,\n",
    " 'n_estimators': 275,\n",
    " 'num_leaves': 18}"
   ]
  },
  {
   "cell_type": "code",
   "execution_count": null,
   "id": "cd469cf8",
   "metadata": {},
   "outputs": [],
   "source": [
    "lgbmc1 = lgb.LGBMClassifier(**rsearch1_best_params, importance_type='gain',random_state=24)\n",
    "lgbmc1.fit(X_train, y_train)"
   ]
  },
  {
   "cell_type": "code",
   "execution_count": null,
   "id": "86f3a4cb",
   "metadata": {},
   "outputs": [],
   "source": [
    "y_train_pred = lgbmc1.predict(X_train)\n",
    "y_test_pred = lgbmc1.predict(X_test)\n",
    "y_train_prob = lgbmc1.predict_proba(X_train)\n",
    "y_test_prob = lgbmc1.predict_proba(X_test)"
   ]
  },
  {
   "cell_type": "code",
   "execution_count": null,
   "id": "4ab09088",
   "metadata": {},
   "outputs": [],
   "source": [
    "print('The train AUC score is:',roc_auc_score(y_train,y_train_prob[:,1]))\n",
    "print('The test AUC score is:',roc_auc_score(y_test,y_test_prob[:,1]))"
   ]
  },
  {
   "cell_type": "code",
   "execution_count": null,
   "id": "e2c59456",
   "metadata": {},
   "outputs": [],
   "source": [
    "fpr, tpr, thresholds = roc_curve(y_test, y_test_prob[:,1])\n",
    "plt.plot(fpr,fpr)\n",
    "plt.plot(fpr,tpr)\n",
    "plt.grid()\n",
    "plt.title('Test ROC curve')\n",
    "plt.show()"
   ]
  },
  {
   "cell_type": "code",
   "execution_count": null,
   "id": "99355680",
   "metadata": {},
   "outputs": [],
   "source": [
    "confusion_matrix(y_test,y_test_pred)"
   ]
  },
  {
   "cell_type": "code",
   "execution_count": null,
   "id": "26f9e4e8",
   "metadata": {},
   "outputs": [],
   "source": [
    "sns.heatmap(confusion_matrix(y_test,y_test_pred),annot=True)\n",
    "plt.show()"
   ]
  },
  {
   "cell_type": "code",
   "execution_count": null,
   "id": "faed5edc",
   "metadata": {},
   "outputs": [],
   "source": [
    "from sklearn.metrics import classification_report\n",
    "print('Test Classification Report\\n')\n",
    "print(classification_report(y_test,y_test_pred))"
   ]
  },
  {
   "cell_type": "code",
   "execution_count": null,
   "id": "b71884b2",
   "metadata": {},
   "outputs": [],
   "source": [
    "from sklearn.calibration import CalibratedClassifierCV\n",
    "model_isotonic = CalibratedClassifierCV(lgbmc1, cv=3, method='isotonic')\n",
    "model_isotonic.fit(X_train,y_train)"
   ]
  },
  {
   "cell_type": "code",
   "execution_count": null,
   "id": "d6b9a2d9",
   "metadata": {},
   "outputs": [],
   "source": [
    "isotonic_predict_prob_test = model_isotonic.predict_proba(X_test)\n",
    "log_loss(y_test,isotonic_predict_prob_test)"
   ]
  },
  {
   "cell_type": "code",
   "execution_count": null,
   "id": "17938216",
   "metadata": {},
   "outputs": [],
   "source": [
    "rsearch_best_params = {'learning_rate': 0.32585614358745185,\n",
    " 'max_depth': 12,\n",
    " 'n_estimators': 540,\n",
    " 'num_leaves': 31}"
   ]
  },
  {
   "cell_type": "code",
   "execution_count": null,
   "id": "ededfc4e",
   "metadata": {},
   "outputs": [],
   "source": [
    "lgbmc = lgb.LGBMClassifier(**rsearch_best_params, importance_type='gain',random_state=24)\n",
    "lgbmc.fit(X_train_sm, y_train_sm)"
   ]
  },
  {
   "cell_type": "code",
   "execution_count": null,
   "id": "9571675e",
   "metadata": {},
   "outputs": [],
   "source": [
    "y_train_pred = lgbmc.predict(X_train_sm)\n",
    "y_test_pred = lgbmc.predict(X_test)\n",
    "y_train_prob = lgbmc.predict_proba(X_train_sm)\n",
    "y_test_prob = lgbmc.predict_proba(X_test)"
   ]
  },
  {
   "cell_type": "code",
   "execution_count": null,
   "id": "c82313c7",
   "metadata": {},
   "outputs": [],
   "source": [
    "print('The train AUC score is:',roc_auc_score(y_train_sm,y_train_prob[:,1]))\n",
    "print('The test AUC score is:',roc_auc_score(y_test,y_test_prob[:,1]))"
   ]
  },
  {
   "cell_type": "code",
   "execution_count": null,
   "id": "4b142dd0",
   "metadata": {},
   "outputs": [],
   "source": [
    "fpr, tpr, thresholds = roc_curve(y_test, y_test_prob[:,1])\n",
    "plt.plot(fpr,fpr)\n",
    "plt.plot(fpr,tpr)\n",
    "plt.grid()\n",
    "plt.title('Test ROC curve')\n",
    "plt.show()"
   ]
  },
  {
   "cell_type": "code",
   "execution_count": null,
   "id": "e08bcbbd",
   "metadata": {},
   "outputs": [],
   "source": [
    "confusion_matrix(y_test,y_test_pred)"
   ]
  },
  {
   "cell_type": "code",
   "execution_count": null,
   "id": "750c3d33",
   "metadata": {},
   "outputs": [],
   "source": [
    "sns.heatmap(confusion_matrix(y_test,y_test_pred),annot=True)\n",
    "plt.show()"
   ]
  },
  {
   "cell_type": "code",
   "execution_count": null,
   "id": "beccbf9b",
   "metadata": {},
   "outputs": [],
   "source": [
    "from sklearn.metrics import classification_report\n",
    "print('Test Classification Report\\n')\n",
    "print(classification_report(y_test,y_test_pred))"
   ]
  },
  {
   "cell_type": "code",
   "execution_count": null,
   "id": "d97dcf0f",
   "metadata": {},
   "outputs": [],
   "source": [
    "from sklearn.calibration import CalibratedClassifierCV\n",
    "model_isotonic = CalibratedClassifierCV(lgbmc, cv=3, method='isotonic')\n",
    "model_isotonic.fit(X_train_sm,y_train_sm)"
   ]
  },
  {
   "cell_type": "code",
   "execution_count": null,
   "id": "5a9b0e51",
   "metadata": {},
   "outputs": [],
   "source": [
    "isotonic_predict_prob_test = model_isotonic.predict_proba(X_test)\n",
    "log_loss(y_test,isotonic_predict_prob_test)"
   ]
  },
  {
   "cell_type": "markdown",
   "id": "7adab9d3",
   "metadata": {},
   "source": [
    "## XGBoost"
   ]
  },
  {
   "cell_type": "markdown",
   "id": "ace5c4b9",
   "metadata": {},
   "source": [
    "Modelling without SMOTE"
   ]
  },
  {
   "cell_type": "code",
   "execution_count": null,
   "id": "85402e7f",
   "metadata": {},
   "outputs": [],
   "source": [
    "!pip install xgboost --upgrade"
   ]
  },
  {
   "cell_type": "code",
   "execution_count": null,
   "id": "29809472",
   "metadata": {},
   "outputs": [],
   "source": [
    "import xgboost \n",
    "from xgboost import XGBClassifier\n",
    "rsearch1_best_params = {'eval_metric': 'auc',\n",
    " 'gamma': 0.3,\n",
    " 'learning_rate': 0.1,\n",
    " 'max_depth': 3,\n",
    " 'n_estimators': 270,\n",
    " 'reg_alpha': 0.01}"
   ]
  },
  {
   "cell_type": "code",
   "execution_count": null,
   "id": "9355f5bb",
   "metadata": {},
   "outputs": [],
   "source": [
    "xgbc1 = XGBClassifier(**rsearch1_best_params, random_state=24)\n",
    "xgbc1.fit(X_train, y_train)"
   ]
  },
  {
   "cell_type": "code",
   "execution_count": null,
   "id": "946ea7d9",
   "metadata": {},
   "outputs": [],
   "source": [
    "y_train_pred = xgbc1.predict(X_train)\n",
    "y_test_pred = xgbc1.predict(X_test)\n",
    "y_train_prob = xgbc1.predict_proba(X_train)\n",
    "y_test_prob = xgbc1.predict_proba(X_test)"
   ]
  },
  {
   "cell_type": "code",
   "execution_count": null,
   "id": "e38ba58f",
   "metadata": {},
   "outputs": [],
   "source": [
    "print('The train AUC score is:',roc_auc_score(y_train,y_train_prob[:,1]))\n",
    "print('The test AUC score is:',roc_auc_score(y_test,y_test_prob[:,1]))"
   ]
  },
  {
   "cell_type": "code",
   "execution_count": null,
   "id": "5f6a18b6",
   "metadata": {},
   "outputs": [],
   "source": [
    "fpr, tpr, thresholds = roc_curve(y_test, y_test_prob[:,1])\n",
    "plt.plot(fpr,fpr)\n",
    "plt.plot(fpr,tpr)\n",
    "plt.grid()\n",
    "plt.title('Test ROC curve')\n",
    "plt.show()"
   ]
  },
  {
   "cell_type": "code",
   "execution_count": null,
   "id": "d2ac2e7e",
   "metadata": {},
   "outputs": [],
   "source": [
    "confusion_matrix(y_test,y_test_pred)"
   ]
  },
  {
   "cell_type": "code",
   "execution_count": null,
   "id": "e5bcfb3c",
   "metadata": {},
   "outputs": [],
   "source": [
    "sns.heatmap(confusion_matrix(y_test,y_test_pred),annot=True)\n",
    "plt.show()"
   ]
  },
  {
   "cell_type": "code",
   "execution_count": null,
   "id": "e0db0d20",
   "metadata": {},
   "outputs": [],
   "source": [
    "from sklearn.metrics import classification_report\n",
    "print('Test Classification Report\\n')\n",
    "print(classification_report(y_test,y_test_pred))"
   ]
  },
  {
   "cell_type": "code",
   "execution_count": null,
   "id": "964df950",
   "metadata": {},
   "outputs": [],
   "source": [
    "xgboost.__version__"
   ]
  },
  {
   "cell_type": "code",
   "execution_count": null,
   "id": "5b59180f",
   "metadata": {},
   "outputs": [],
   "source": [
    "from sklearn.calibration import CalibratedClassifierCV\n",
    "model_isotonic = CalibratedClassifierCV(xgbc1, cv=3, method='isotonic')\n",
    "model_isotonic.fit(X_train,y_train)"
   ]
  },
  {
   "cell_type": "code",
   "execution_count": null,
   "id": "feef6a61",
   "metadata": {},
   "outputs": [],
   "source": [
    "isotonic_predict_prob_test = model_isotonic.predict_proba(X_test)\n",
    "log_loss(y_test,isotonic_predict_prob_test)"
   ]
  },
  {
   "cell_type": "markdown",
   "id": "8971d833",
   "metadata": {},
   "source": [
    "Modelling with SMOTE"
   ]
  },
  {
   "cell_type": "code",
   "execution_count": null,
   "id": "aca94876",
   "metadata": {},
   "outputs": [],
   "source": [
    "rsearch_best_params = {'eval_metric': 'auc',\n",
    " 'gamma': 0.2,\n",
    " 'learning_rate': 0.2,\n",
    " 'max_depth': 9,\n",
    " 'n_estimators': 192,\n",
    " 'reg_alpha': 0.1}"
   ]
  },
  {
   "cell_type": "code",
   "execution_count": null,
   "id": "757e4fc5",
   "metadata": {},
   "outputs": [],
   "source": [
    "xgbc = XGBClassifier(**rsearch_best_params, random_state=24)\n",
    "xgbc.fit(X_train_sm, y_train_sm)"
   ]
  },
  {
   "cell_type": "code",
   "execution_count": null,
   "id": "9187b6c4",
   "metadata": {},
   "outputs": [],
   "source": [
    "y_train_pred = xgbc.predict(X_train_sm)\n",
    "y_test_pred = xgbc.predict(X_test)\n",
    "y_train_prob = xgbc.predict_proba(X_train_sm)\n",
    "y_test_prob = xgbc.predict_proba(X_test)"
   ]
  },
  {
   "cell_type": "code",
   "execution_count": null,
   "id": "6a8eb79e",
   "metadata": {},
   "outputs": [],
   "source": [
    "print('The train AUC score is:',roc_auc_score(y_train_sm,y_train_prob[:,1]))\n",
    "print('The test AUC score is:',roc_auc_score(y_test,y_test_prob[:,1]))"
   ]
  },
  {
   "cell_type": "code",
   "execution_count": null,
   "id": "7cdd2ccb",
   "metadata": {},
   "outputs": [],
   "source": [
    "fpr, tpr, thresholds = roc_curve(y_test, y_test_prob[:,1])\n",
    "plt.plot(fpr,fpr)\n",
    "plt.plot(fpr,tpr)\n",
    "plt.grid()\n",
    "plt.title('Test ROC curve')\n",
    "plt.show()"
   ]
  },
  {
   "cell_type": "code",
   "execution_count": null,
   "id": "8609e20c",
   "metadata": {},
   "outputs": [],
   "source": [
    "confusion_matrix(y_test, y_test_pred)"
   ]
  },
  {
   "cell_type": "code",
   "execution_count": null,
   "id": "6002ebba",
   "metadata": {},
   "outputs": [],
   "source": [
    "sns.heatmap(confusion_matrix(y_test, y_test_pred), annot=True)\n",
    "plt.show()"
   ]
  },
  {
   "cell_type": "code",
   "execution_count": null,
   "id": "289fbba1",
   "metadata": {},
   "outputs": [],
   "source": [
    "from sklearn.metrics import classification_report\n",
    "print('Test Classification Report\\n')\n",
    "print(classification_report(y_test,y_test_pred))"
   ]
  },
  {
   "cell_type": "code",
   "execution_count": null,
   "id": "91748e25",
   "metadata": {},
   "outputs": [],
   "source": [
    "from sklearn.calibration import CalibratedClassifierCV\n",
    "model_isotonic = CalibratedClassifierCV(xgbc, cv=3, method='isotonic')\n",
    "model_isotonic.fit(X_train_sm,y_train_sm)"
   ]
  },
  {
   "cell_type": "code",
   "execution_count": null,
   "id": "d8475baf",
   "metadata": {},
   "outputs": [],
   "source": [
    "isotonic_predict_prob_test = model_isotonic.predict_proba(X_test)\n",
    "log_loss(y_test,isotonic_predict_prob_test)"
   ]
  },
  {
   "cell_type": "markdown",
   "id": "de797bce",
   "metadata": {},
   "source": [
    "## Stacking"
   ]
  },
  {
   "cell_type": "markdown",
   "id": "bde6befa",
   "metadata": {},
   "source": [
    "Modelling without SMOTE"
   ]
  },
  {
   "cell_type": "code",
   "execution_count": null,
   "id": "854bd179",
   "metadata": {},
   "outputs": [],
   "source": [
    "from sklearn.ensemble import StackingClassifier\n",
    "estimators = [\n",
    "('rfc',RandomForestClassifier(max_depth = 13,\n",
    " min_samples_leaf = 10,\n",
    " min_samples_split = 11,\n",
    " n_estimators = 374)),\n",
    " \n",
    "('lgbmc',lgb.LGBMClassifier(learning_rate = 0.10308835171850986,\n",
    " max_depth = 3,\n",
    " n_estimators = 275,\n",
    " num_leaves = 18)),\n",
    " \n",
    "('xgbc', XGBClassifier(eval_metric = 'auc',\n",
    " gamma = 0.3,\n",
    " learning_rate = 0.1,\n",
    " max_depth = 3,\n",
    " n_estimators = 270,\n",
    " reg_alpha = 0.01))\n",
    "]"
   ]
  },
  {
   "cell_type": "code",
   "execution_count": null,
   "id": "cd7e90b6",
   "metadata": {},
   "outputs": [],
   "source": [
    "clf1 = StackingClassifier(estimators=estimators,final_estimator=LogisticRegression(solver='liblinear'),\n",
    "                        cv = 5, n_jobs=-1)\n",
    "clf1.fit(X_train,y_train)"
   ]
  },
  {
   "cell_type": "code",
   "execution_count": null,
   "id": "f981b358",
   "metadata": {},
   "outputs": [],
   "source": [
    "y_train_pred = clf1.predict(X_train)\n",
    "y_test_pred = clf1.predict(X_test)\n",
    "y_train_prob = clf1.predict_proba(X_train)\n",
    "y_test_prob = clf1.predict_proba(X_test)"
   ]
  },
  {
   "cell_type": "code",
   "execution_count": null,
   "id": "9828ead7",
   "metadata": {},
   "outputs": [],
   "source": [
    "print('The train AUC score is:',roc_auc_score(y_train,y_train_prob[:,1]))\n",
    "print('The test AUC score is:',roc_auc_score(y_test,y_test_prob[:,1]))"
   ]
  },
  {
   "cell_type": "code",
   "execution_count": null,
   "id": "eb5f1234",
   "metadata": {},
   "outputs": [],
   "source": [
    "fpr, tpr, thresholds = roc_curve(y_test, y_test_prob[:,1])\n",
    "plt.plot(fpr,fpr)\n",
    "plt.plot(fpr,tpr)\n",
    "plt.grid()\n",
    "plt.title('Test ROC curve')\n",
    "plt.show()"
   ]
  },
  {
   "cell_type": "code",
   "execution_count": null,
   "id": "f37d03cb",
   "metadata": {},
   "outputs": [],
   "source": [
    "confusion_matrix(y_test,y_test_pred)"
   ]
  },
  {
   "cell_type": "code",
   "execution_count": null,
   "id": "ec5ad3d4",
   "metadata": {},
   "outputs": [],
   "source": [
    "sns.heatmap(confusion_matrix(y_test,y_test_pred),annot=True)\n",
    "plt.show()"
   ]
  },
  {
   "cell_type": "code",
   "execution_count": null,
   "id": "4f968dbd",
   "metadata": {},
   "outputs": [],
   "source": [
    "from sklearn.metrics import classification_report\n",
    "print('Test Classification Report\\n')\n",
    "print(classification_report(y_test,y_test_pred))"
   ]
  },
  {
   "cell_type": "code",
   "execution_count": null,
   "id": "eaab1679",
   "metadata": {},
   "outputs": [],
   "source": [
    "from sklearn.calibration import CalibratedClassifierCV\n",
    "model_isotonic = CalibratedClassifierCV(clf1, cv=3, method='isotonic')\n",
    "model_isotonic.fit(X_train,y_train)"
   ]
  },
  {
   "cell_type": "code",
   "execution_count": null,
   "id": "e6cc9a24",
   "metadata": {},
   "outputs": [],
   "source": [
    "isotonic_predict_prob_test = model_isotonic.predict_proba(X_test)\n",
    "log_loss(y_test,isotonic_predict_prob_test)"
   ]
  },
  {
   "cell_type": "markdown",
   "id": "9134f305",
   "metadata": {},
   "source": [
    "Modelling with SMOTE"
   ]
  },
  {
   "cell_type": "code",
   "execution_count": null,
   "id": "8ee813e2",
   "metadata": {},
   "outputs": [],
   "source": [
    "from sklearn.ensemble import StackingClassifier\n",
    "estimators = [\n",
    "('rfc',RandomForestClassifier(max_depth = 17,\n",
    " min_samples_leaf = 2,\n",
    " min_samples_split = 4,\n",
    " n_estimators = 317)),\n",
    " \n",
    "('lgbmc',lgb.LGBMClassifier(learning_rate = 0.32585614358745185,\n",
    " max_depth = 12,\n",
    " n_estimators = 540,\n",
    " num_leaves = 31)),\n",
    " \n",
    "('xgbc', XGBClassifier(eval_metric = 'auc',\n",
    " gamma = 0.2,\n",
    " learning_rate = 0.2,\n",
    " max_depth = 9,\n",
    " n_estimators = 192,\n",
    " reg_alpha = 0.1))\n",
    "]"
   ]
  },
  {
   "cell_type": "code",
   "execution_count": null,
   "id": "25978ed6",
   "metadata": {},
   "outputs": [],
   "source": [
    "clf = StackingClassifier(estimators=estimators,final_estimator=LogisticRegression(solver='liblinear'),\n",
    "                        cv = 5, n_jobs=-1)\n",
    "clf.fit(X_train_sm,y_train_sm)"
   ]
  },
  {
   "cell_type": "code",
   "execution_count": null,
   "id": "474cf918",
   "metadata": {},
   "outputs": [],
   "source": [
    "y_train_pred = clf.predict(X_train_sm)\n",
    "y_test_pred = clf.predict(X_test)\n",
    "y_train_prob = clf.predict_proba(X_train_sm)\n",
    "y_test_prob = clf.predict_proba(X_test)"
   ]
  },
  {
   "cell_type": "code",
   "execution_count": null,
   "id": "1c86377e",
   "metadata": {},
   "outputs": [],
   "source": [
    "print('The train AUC score is:',roc_auc_score(y_train_sm,y_train_prob[:,1]))\n",
    "print('The test AUC score is:',roc_auc_score(y_test,y_test_prob[:,1]))"
   ]
  },
  {
   "cell_type": "code",
   "execution_count": null,
   "id": "0479ad6f",
   "metadata": {},
   "outputs": [],
   "source": [
    "fpr, tpr, thresholds = roc_curve(y_test, y_test_prob[:,1])\n",
    "plt.plot(fpr,fpr)\n",
    "plt.plot(fpr,tpr)\n",
    "plt.grid()\n",
    "plt.title('Test ROC curve')\n",
    "plt.show()"
   ]
  },
  {
   "cell_type": "code",
   "execution_count": null,
   "id": "afce43d5",
   "metadata": {},
   "outputs": [],
   "source": [
    "confusion_matrix(y_test,y_test_pred)"
   ]
  },
  {
   "cell_type": "code",
   "execution_count": null,
   "id": "c1e1c464",
   "metadata": {},
   "outputs": [],
   "source": [
    "sns.heatmap(confusion_matrix(y_test,y_test_pred),annot=True)\n",
    "plt.show()"
   ]
  },
  {
   "cell_type": "code",
   "execution_count": null,
   "id": "a7af4c2a",
   "metadata": {},
   "outputs": [],
   "source": [
    "from sklearn.metrics import classification_report\n",
    "print('Test Classification Report\\n')\n",
    "print(classification_report(y_test,y_test_pred))"
   ]
  },
  {
   "cell_type": "code",
   "execution_count": null,
   "id": "b1befbca",
   "metadata": {},
   "outputs": [],
   "source": [
    "from sklearn.calibration import CalibratedClassifierCV\n",
    "model_isotonic = CalibratedClassifierCV(clf, cv=3, method='isotonic')\n",
    "model_isotonic.fit(X_train_sm,y_train_sm)"
   ]
  },
  {
   "cell_type": "code",
   "execution_count": null,
   "id": "13ea5f92",
   "metadata": {},
   "outputs": [],
   "source": [
    "isotonic_predict_prob_test = model_isotonic.predict_proba(X_test)\n",
    "log_loss(y_test,isotonic_predict_prob_test)"
   ]
  },
  {
   "cell_type": "markdown",
   "id": "e31c01df",
   "metadata": {},
   "source": [
    "## Summary stats of all Models"
   ]
  },
  {
   "cell_type": "code",
   "execution_count": null,
   "id": "12be0903",
   "metadata": {
    "scrolled": true
   },
   "outputs": [],
   "source": [
    "!pip install PrettyTable"
   ]
  },
  {
   "cell_type": "code",
   "execution_count": null,
   "id": "1bdb3895",
   "metadata": {},
   "outputs": [],
   "source": [
    "from prettytable import PrettyTable\n",
    "\n",
    "x = PrettyTable()\n",
    "x.field_names = [\"Model\",\"Train-AUC\",\"Test-AUC\",\"Test-Binary_Log_Loss\",\"F1-Score(1)\",\"SMOTE-applied\"]\n",
    "\n",
    "x.add_row([\"Logistic Regression\", 0.623, 0.623, 0.509, 0.01,'No'])\n",
    "x.add_row([\"Logistic Regression\", 0.624, 0.623, 0.670, 0.39,'Yes'])\n",
    "x.add_row([\"Random Forest Classifier\", 0.727, 0.637, 0.503, 0.00,'No'])\n",
    "x.add_row([\"Random Forest Classifier\", 0.855, 0.625, 0.614, 0.38,'Yes'])\n",
    "x.add_row([\"LightGBM Classifier\", 0.652, 0.639, 0.503, 0.01,'No'])\n",
    "x.add_row([\"LightGBM Classifier\", 0.928, 0.601, 0.527, 0.22,'Yes'])\n",
    "x.add_row([\"XGBoost Classifier\", 0.652, 0.638, 0.503, 0.01,'No'])\n",
    "x.add_row([\"XGBoost Classifier\", 0.936, 0.610, 0.523, 0.20,'Yes'])\n",
    "x.add_row([\"Stacked Classifier\", 0.690, 0.639, 0.503, 0.03,'No'])\n",
    "x.add_row([\"Stacked Classifier\", 0.936, 0.618, 0.523, 0.29,'Yes'])\n",
    "\n",
    "\n",
    "print(x)"
   ]
  },
  {
   "cell_type": "code",
   "execution_count": null,
   "id": "b7750ce7",
   "metadata": {},
   "outputs": [],
   "source": [
    "test_df.columns"
   ]
  },
  {
   "cell_type": "code",
   "execution_count": null,
   "id": "36985cc8",
   "metadata": {},
   "outputs": [],
   "source": [
    "train_df.columns"
   ]
  },
  {
   "cell_type": "markdown",
   "id": "f345b76d",
   "metadata": {},
   "source": [
    "## Pickling the model for deployment"
   ]
  },
  {
   "cell_type": "code",
   "execution_count": null,
   "id": "c11ac264",
   "metadata": {},
   "outputs": [],
   "source": [
    "import pickle"
   ]
  },
  {
   "cell_type": "code",
   "execution_count": null,
   "id": "f91a3fc9",
   "metadata": {},
   "outputs": [],
   "source": [
    "pickle.dump(lr1, open('lr1.pkl', 'wb'))"
   ]
  },
  {
   "cell_type": "code",
   "execution_count": null,
   "id": "37c84daf",
   "metadata": {},
   "outputs": [],
   "source": [
    "pickle.dump(sc, open('sc.pkl', 'wb'))"
   ]
  },
  {
   "cell_type": "code",
   "execution_count": null,
   "id": "aa3a9559",
   "metadata": {},
   "outputs": [],
   "source": [
    "pickle.dump(smote, open('smote.pkl', 'wb'))"
   ]
  }
 ],
 "metadata": {
  "kernelspec": {
   "display_name": "Python 3 (ipykernel)",
   "language": "python",
   "name": "python3"
  },
  "language_info": {
   "codemirror_mode": {
    "name": "ipython",
    "version": 3
   },
   "file_extension": ".py",
   "mimetype": "text/x-python",
   "name": "python",
   "nbconvert_exporter": "python",
   "pygments_lexer": "ipython3",
   "version": "3.9.12"
  }
 },
 "nbformat": 4,
 "nbformat_minor": 5
}
